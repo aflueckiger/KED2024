{
 "cells": [
  {
   "attachments": {},
   "cell_type": "markdown",
   "metadata": {
    "editable": true,
    "slideshow": {
     "slide_type": "slide"
    },
    "tags": []
   },
   "source": [
    "<section id=\"title-slide\">\n",
    "  <h1 class=\"title\">The ABC of Computational Text Analysis</h1>\n",
    "  <h2 class=\"subtitle\">#7 Working with (your own) Data</h2>\n",
    "  <p class=\"author\">Alex Flückiger</p><p class=\"date\">11/25 May 2023</p>\n",
    "</section>"
   ]
  },
  {
   "attachments": {},
   "cell_type": "markdown",
   "metadata": {
    "editable": true,
    "slideshow": {
     "slide_type": "slide"
    },
    "tags": []
   },
   "source": [
    "## Working with Texts\n",
    "Texts are represented as strings of any length.\n"
   ]
  },
  {
   "cell_type": "code",
   "execution_count": 1,
   "metadata": {
    "editable": true,
    "slideshow": {
     "slide_type": ""
    },
    "tags": []
   },
   "outputs": [
    {
     "data": {
      "text/plain": [
       "'I love NLP and social science Computational Social Science applies NLP to question of social questions.'"
      ]
     },
     "execution_count": 1,
     "metadata": {},
     "output_type": "execute_result"
    }
   ],
   "source": [
    "sentence_1 = \"I love NLP and social science\"\n",
    "sentence_2 = \"Computational Social Science applies NLP to question of social questions.\"\n",
    "\n",
    "text = sentence_1 + \" \" + sentence_2\n",
    "text"
   ]
  },
  {
   "cell_type": "markdown",
   "metadata": {
    "editable": true,
    "slideshow": {
     "slide_type": "slide"
    },
    "tags": []
   },
   "source": [
    "## Text Modifactions"
   ]
  },
  {
   "cell_type": "code",
   "execution_count": 2,
   "metadata": {
    "editable": true,
    "slideshow": {
     "slide_type": ""
    },
    "tags": []
   },
   "outputs": [
    {
     "data": {
      "text/plain": [
       "['I',\n",
       " 'love',\n",
       " 'NLP',\n",
       " 'and',\n",
       " 'social',\n",
       " 'science',\n",
       " 'Computational',\n",
       " 'Social',\n",
       " 'Science',\n",
       " 'applies',\n",
       " 'NLP',\n",
       " 'to',\n",
       " 'question',\n",
       " 'of',\n",
       " 'social',\n",
       " 'questions.']"
      ]
     },
     "execution_count": 2,
     "metadata": {},
     "output_type": "execute_result"
    }
   ],
   "source": [
    "# replace `.` with `!`\n",
    "text.replace(\".\", \"!\")\n",
    "\n",
    "# change text to lowercased letters\n",
    "text.lower()\n",
    "\n",
    "# split text at space (~words)\n",
    "text.split(\" \")\n"
   ]
  },
  {
   "cell_type": "markdown",
   "metadata": {
    "editable": true,
    "slideshow": {
     "slide_type": "slide"
    },
    "tags": []
   },
   "source": [
    "## Count Words"
   ]
  },
  {
   "cell_type": "code",
   "execution_count": 3,
   "metadata": {
    "editable": true,
    "slideshow": {
     "slide_type": ""
    },
    "tags": []
   },
   "outputs": [
    {
     "data": {
      "text/plain": [
       "[('NLP', 2), ('social', 2), ('I', 1)]"
      ]
     },
     "execution_count": 3,
     "metadata": {},
     "output_type": "execute_result"
    }
   ],
   "source": [
    "from collections import Counter\n",
    "\n",
    "# initialize a counter object\n",
    "counter = Counter()\n",
    "\n",
    "# split the text and pass all elemnents (~words) to the counter\n",
    "counter.update(text.split(\" \"))\n",
    "\n",
    "# get the three most common words\n",
    "counter.most_common(3)\n"
   ]
  },
  {
   "attachments": {},
   "cell_type": "markdown",
   "metadata": {
    "editable": true,
    "slideshow": {
     "slide_type": "slide"
    },
    "tags": []
   },
   "source": [
    "## Read from a Textfile"
   ]
  },
  {
   "cell_type": "code",
   "execution_count": 11,
   "metadata": {
    "editable": true,
    "slideshow": {
     "slide_type": ""
    },
    "tags": []
   },
   "outputs": [
    {
     "name": "stdout",
     "output_type": "stream",
     "text": [
      "IMPRESSUM\n",
      "GRÜNE Schweiz\n",
      "Waisenhausplatz 21\n",
      "3011 Bern\n",
      "Tel. 031 326 66 00\n",
      "www.gruene.ch\n",
      "gruene@gruene.\n"
     ]
    }
   ],
   "source": [
    "from pathlib import Path\n",
    "\n",
    "infile = Path(\"../data/swiss_party_programmes/txt/gruene_programmes/gruene_programme_2019.txt\")\n",
    "\n",
    "text = infile.read_text()\n",
    "\n",
    "# show first 100 characters of file \n",
    "print(text[0:100])\n"
   ]
  },
  {
   "attachments": {},
   "cell_type": "markdown",
   "metadata": {
    "editable": true,
    "slideshow": {
     "slide_type": "slide"
    },
    "tags": []
   },
   "source": [
    "## Write into a Textfile"
   ]
  },
  {
   "cell_type": "code",
   "execution_count": 13,
   "metadata": {
    "editable": true,
    "slideshow": {
     "slide_type": ""
    },
    "tags": []
   },
   "outputs": [],
   "source": [
    "# lowercase the text\n",
    "text = text.lower()\n",
    "\n",
    "# replace repeated newlines with a single newline\n",
    "text = re.sub(r\"\\n+\", \"\\n\", text)\n",
    "\n",
    "# write content to file\n",
    "outfile = Path(\"../data/swiss_party_programmes/txt/gruene_programmes/gruene_programme_2019_lowercased.txt\")\n",
    "\n",
    "# write to file\n",
    "with outfile.open(\"w\") as f:\n",
    "    f.write(text)\n"
   ]
  },
  {
   "attachments": {},
   "cell_type": "markdown",
   "metadata": {
    "editable": true,
    "slideshow": {
     "slide_type": "slide"
    },
    "tags": []
   },
   "source": [
    "## Counting Words in a Textfile"
   ]
  },
  {
   "cell_type": "code",
   "execution_count": 8,
   "metadata": {
    "editable": true,
    "slideshow": {
     "slide_type": ""
    },
    "tags": []
   },
   "outputs": [
    {
     "data": {
      "text/plain": [
       "[('und', 595), ('die', 517), ('der', 394), ('für', 217), ('in', 161)]"
      ]
     },
     "execution_count": 8,
     "metadata": {},
     "output_type": "execute_result"
    }
   ],
   "source": [
    "from pathlib import Path\n",
    "from collections import Counter\n",
    "import re\n",
    "\n",
    "infile = Path(\"../data/swiss_party_programmes/txt/gruene_programmes/gruene_programme_2019.txt\")\n",
    "text = infile.read_text()\n",
    "\n",
    "# lowercase all text\n",
    "text = text.lower()\n",
    "\n",
    "# extract alphanumeric words without punctuation\n",
    "words = re.findall(r\"\\w+\", text)\n",
    "\n",
    "# count words\n",
    "vocab = Counter(words)\n",
    "\n",
    "# write to file, one word and its frequency per line\n",
    "outfile = Path(\"../analysis/vocab_frq_test.tsv\")\n",
    "with outfile.open(\"w\") as f:\n",
    "    for word, frq in vocab.most_common():\n",
    "        line = f\"{word}\\t{frq}\\n\"\n",
    "        f.write(line)\n",
    "\n",
    "vocab.most_common(5)\n"
   ]
  },
  {
   "attachments": {},
   "cell_type": "markdown",
   "metadata": {
    "editable": true,
    "slideshow": {
     "slide_type": "slide"
    },
    "tags": []
   },
   "source": [
    "## PDF: Digitalized or Digital?\n",
    "\n",
    "### Two flavours of PDF documents\n",
    "![Digitalized PDF made from a scanned page](../../lectures/images/pdf_scan.png)\n",
    "![Native PDF converted from digital document (e.g., docx)](../../lectures/images/pdf_digital.png)"
   ]
  },
  {
   "cell_type": "markdown",
   "metadata": {
    "editable": true,
    "slideshow": {
     "slide_type": "slide"
    },
    "tags": []
   },
   "source": [
    "## Conversion of a single native PDFs\n",
    "\n",
    "### Use case: [Swiss party programmes](https://visuals.manifesto-project.wzb.eu/mpdb-shiny/cmp_dashboard_dataset/)\n"
   ]
  },
  {
   "cell_type": "code",
   "execution_count": 7,
   "metadata": {
    "editable": true,
    "slideshow": {
     "slide_type": ""
    },
    "tags": []
   },
   "outputs": [
    {
     "name": "stdout",
     "output_type": "stream",
     "text": [
      "  \n",
      " Wahlplattform der GRÜNEN Schweiz 2019  – 2023   ii  \n",
      "IMPRESSUM  \n",
      "GRÜNE  Schweiz  \n",
      "Waisenhausplatz 21  \n",
      "3011 Bern  \n",
      "Tel. 031 326 66 00  \n",
      "www.gruene.ch  \n",
      "gruene@gruene.ch  \n",
      "Postkonto 80-26747 -3 \n",
      "Wahlplattform 201 9 – 2023  \n",
      "Beschlossen an der  \n",
      "Delegiertenversammlung vom 12. Januar 2019 in Emmen,  \n",
      "ergänzt durch den Resolutionsbeschluss der  \n",
      "Delegiertenversammlung vom 6. April 2019 in Sierre.  \n",
      "   Wahlplattform der GRÜNEN Schweiz 2019  – 2023   iii INHALTSVERZEICHNIS  \n",
      "GENDERNEUTRALE SPRACHE\n"
     ]
    }
   ],
   "source": [
    "from pypdf import PdfReader\n",
    "\n",
    "# path to PDF file\n",
    "pdf_path = Path(\"../data/swiss_party_programmes/pdf/gruene_programmes/gruene_programme_2019.pdf\")\n",
    "\n",
    "text = \"\"\n",
    "reader = PdfReader(pdf_path)\n",
    "\n",
    "for page in reader.pages:\n",
    "    text_page = page.extract_text()\n",
    "    \n",
    "    # clean up repeated empty lines\n",
    "    text = re.sub(r\"\\n\\s*\\n\", \"\\n\", text)\n",
    "    text += \" \" + text_page\n",
    "\n",
    "print(text[:500])\n"
   ]
  },
  {
   "attachments": {},
   "cell_type": "markdown",
   "metadata": {
    "editable": true,
    "slideshow": {
     "slide_type": "slide"
    },
    "tags": []
   },
   "source": [
    "## Optical Character Recognition (OCR)\n",
    "\n",
    "\n",
    "- OCR ~ convert images into text\n",
    "  - extract text from scans/images\n",
    "- `tesseract` performs OCR\n",
    "  - language-specific models\n",
    "  - supports handwriting + Fraktur texts\n",
    "- image quality is crucial"
   ]
  },
  {
   "cell_type": "markdown",
   "metadata": {
    "editable": true,
    "slideshow": {
     "slide_type": "slide"
    },
    "tags": []
   },
   "source": [
    "<img src=\"../../lectures/images/ocr.png\" alt=\"Steps when performing OCR\" style=\"width: 500px;\"/>"
   ]
  },
  {
   "attachments": {},
   "cell_type": "markdown",
   "metadata": {
    "editable": true,
    "slideshow": {
     "slide_type": "slide"
    },
    "tags": []
   },
   "source": [
    "## Conversion of a single digitalized PDF\n",
    "\n",
    "### use-case: [historical party programmes](https://visuals.manifesto-project.wzb.eu/mpdb-shiny/cmp_dashboard_dataset/)\n",
    "\n",
    "1. extract image from PDF\n",
    "2. run optical character recognition (OCR) on the image"
   ]
  },
  {
   "cell_type": "code",
   "execution_count": 8,
   "metadata": {
    "editable": true,
    "slideshow": {
     "slide_type": ""
    },
    "tags": []
   },
   "outputs": [
    {
     "name": "stdout",
     "output_type": "stream",
     "text": [
      " G3 420 47\n",
      "\n",
      "FREIHEIT\n",
      "FÜR UNSERE ZEIT\n",
      "\n",
      "Vorschläge zur Orientierung\n",
      "der freisinnigen Politik\n",
      "\n",
      "nach dem\n"
     ]
    }
   ],
   "source": [
    "import pytesseract\n",
    "from pdf2image import convert_from_path\n",
    "\n",
    "# path to PDF file\n",
    "pdf_path = Path(\"../data/scanned_pdf_sample/fdp_scan_party_programme_1947.pdf\")\n",
    "\n",
    "# convert PDF to images (one image per page)\n",
    "pages = convert_from_path(pdf_path, fmt=\"png\")\n",
    "\n",
    "# initialize text to collect the text per page\n",
    "text = \"\"\n",
    "\n",
    "# iterate over pages\n",
    "for pageNum,imgBlob in enumerate(pages):\n",
    "    # extract text from image per page\n",
    "    text_page = pytesseract.image_to_string(imgBlob, lang='deu')\n",
    "\n",
    "    # append text for each page\n",
    "    text += \" \" + text_page\n",
    "\n",
    "print(text[:100])"
   ]
  },
  {
   "cell_type": "markdown",
   "metadata": {
    "editable": true,
    "slideshow": {
     "slide_type": "slide"
    },
    "tags": []
   },
   "source": [
    "## Extract the text from all PDFs in a folder"
   ]
  },
  {
   "cell_type": "code",
   "execution_count": 9,
   "metadata": {
    "editable": true,
    "slideshow": {
     "slide_type": ""
    },
    "tags": []
   },
   "outputs": [
    {
     "name": "stdout",
     "output_type": "stream",
     "text": [
      "Reading PDF file: ../data/scanned_pdf_sample/fdp_scan_party_programme_1947.pdf\n",
      "Extracted text to: ../data/scanned_pdf_sample/extracted/fdp_scan_party_programme_1947.txt\n",
      "Reading PDF file: ../data/scanned_pdf_sample/sp_scan_party_programme_1947.pdf\n",
      "Extracted text to: ../data/scanned_pdf_sample/extracted/sp_scan_party_programme_1947.txt\n"
     ]
    }
   ],
   "source": [
    "# path to PDF directory\n",
    "indir = Path(\"../data/scanned_pdf_sample/\")\n",
    "outdir = Path(\"../data/scanned_pdf_sample/extracted\")\n",
    "\n",
    "# create output folder if it does not exist\n",
    "outdir.mkdir(parents=True, exist_ok=True)\n",
    "\n",
    "# iterate over all PDFs\n",
    "for infile in indir.glob(pattern=\"*.pdf\"):\n",
    "    print(f\"Reading PDF file: {infile}\")\n",
    "    \n",
    "    pages = convert_from_path(infile, fmt=\"png\")\n",
    "    text = \"\"\n",
    "    \n",
    "    for pageNum,imgBlob in enumerate(pages):\n",
    "        text_page = pytesseract.image_to_string(imgBlob, lang='deu')\n",
    "        text += \" \" + text_page\n",
    "\n",
    "    # define name of outfile (name.pdf -> name.txt)\n",
    "    outfile = outdir / (infile.stem + \".txt\")\n",
    "\n",
    "    # write content to file\n",
    "    with outfile.open(\"w\") as f:\n",
    "        f.write(text)\n",
    "    \n",
    "    print(f\"Extracted text to: {outfile}\")"
   ]
  },
  {
   "cell_type": "markdown",
   "metadata": {
    "editable": true,
    "slideshow": {
     "slide_type": "slide"
    },
    "tags": []
   },
   "source": [
    "## Bonus: Clean up Artefacts"
   ]
  },
  {
   "cell_type": "markdown",
   "metadata": {
    "editable": true,
    "slideshow": {
     "slide_type": ""
    },
    "tags": []
   },
   "source": [
    "- remove empty lines\n",
    "- remove page numbers\n",
    "- remove footer\n",
    "- merge hyphenated words"
   ]
  },
  {
   "cell_type": "markdown",
   "metadata": {},
   "source": []
  },
  {
   "cell_type": "code",
   "execution_count": 5,
   "metadata": {
    "editable": true,
    "slideshow": {
     "slide_type": "slide"
    },
    "tags": []
   },
   "outputs": [
    {
     "name": "stdout",
     "output_type": "stream",
     "text": [
      "\n",
      "This is an example Text.\n",
      "\n",
      "\n",
      "\n",
      "Keep this and the following.\n",
      "\n"
     ]
    }
   ],
   "source": [
    "# Remove multiple lines in a string using regular expressions\n",
    "\n",
    "import re\n",
    "\n",
    "text = \"\"\"\n",
    "This is an example Text.\n",
    "\n",
    "YOUR_PATTERN REMOVE THIS\n",
    "whatever is written here\n",
    "UNTIL HERE.\n",
    "\n",
    "Keep this and the following.\n",
    "\"\"\"\n",
    "\n",
    "# remove a multiline string by substituting the match with an empty string\n",
    "# re.DOTALL makes the . matching the newline character \\n\n",
    "text_clean = re.sub(\"YOUR_PATTERN.*UNTIL HERE.\", \"\", text, flags=re.DOTALL)\n",
    "\n",
    "print(text_clean)"
   ]
  }
 ],
 "metadata": {
  "celltoolbar": "Slideshow",
  "kernelspec": {
   "display_name": "Python 3 (ipykernel)",
   "language": "python",
   "name": "python3"
  },
  "language_info": {
   "codemirror_mode": {
    "name": "ipython",
    "version": 3
   },
   "file_extension": ".py",
   "mimetype": "text/x-python",
   "name": "python",
   "nbconvert_exporter": "python",
   "pygments_lexer": "ipython3",
   "version": "3.11.6"
  },
  "rise": {
   "enable_chalkboard": true
  },
  "vscode": {
   "interpreter": {
    "hash": "2225c0e19c3f0c13ccd5f798c9a69d34844d1ef8ef2cd78fdeb33c1579f2ce2f"
   }
  }
 },
 "nbformat": 4,
 "nbformat_minor": 4
}
