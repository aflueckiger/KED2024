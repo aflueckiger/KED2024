{
 "cells": [
  {
   "attachments": {},
   "cell_type": "markdown",
   "metadata": {
    "editable": true,
    "slideshow": {
     "slide_type": "slide"
    },
    "tags": []
   },
   "source": [
    "<section id=\"title-slide\">\n",
    "  <h1 class=\"title\">The ABC of Computational Text Analysis</h1>\n",
    "  <h2 class=\"subtitle\">#11: Working with texts</h2>\n",
    "  <p class=\"author\">Alex Flückiger</p><p class=\"date\">11/25 May 2023</p>\n",
    "</section>"
   ]
  },
  {
   "attachments": {},
   "cell_type": "markdown",
   "metadata": {
    "editable": true,
    "slideshow": {
     "slide_type": "slide"
    },
    "tags": []
   },
   "source": [
    "## Working with Texts\n",
    "Texts are represented as strings of any length.\n"
   ]
  },
  {
   "cell_type": "code",
   "execution_count": 8,
   "metadata": {
    "editable": true,
    "slideshow": {
     "slide_type": ""
    },
    "tags": []
   },
   "outputs": [
    {
     "data": {
      "text/plain": [
       "'I love NLP and social science Computational Social Science applies NLP to question of social questions.'"
      ]
     },
     "execution_count": 8,
     "metadata": {},
     "output_type": "execute_result"
    }
   ],
   "source": [
    "sentence_1 = \"I love NLP and social science\"\n",
    "sentence_2 = \"Computational Social Science applies NLP to question of social questions.\"\n",
    "\n",
    "text = sentence_1 + \" \" + sentence_2\n",
    "text"
   ]
  },
  {
   "cell_type": "markdown",
   "metadata": {
    "editable": true,
    "slideshow": {
     "slide_type": "slide"
    },
    "tags": []
   },
   "source": [
    "## Text Modifactions"
   ]
  },
  {
   "cell_type": "code",
   "execution_count": 9,
   "metadata": {
    "editable": true,
    "slideshow": {
     "slide_type": ""
    },
    "tags": []
   },
   "outputs": [
    {
     "data": {
      "text/plain": [
       "['I',\n",
       " 'love',\n",
       " 'NLP',\n",
       " 'and',\n",
       " 'social',\n",
       " 'science',\n",
       " 'Computational',\n",
       " 'Social',\n",
       " 'Science',\n",
       " 'applies',\n",
       " 'NLP',\n",
       " 'to',\n",
       " 'question',\n",
       " 'of',\n",
       " 'social',\n",
       " 'questions.']"
      ]
     },
     "execution_count": 9,
     "metadata": {},
     "output_type": "execute_result"
    }
   ],
   "source": [
    "# replace `.` with `!`\n",
    "text.replace(\".\", \"!\")\n",
    "\n",
    "# change text to lowercased letters\n",
    "text.lower()\n",
    "\n",
    "# split text at space (~words)\n",
    "text.split(\" \")\n"
   ]
  },
  {
   "cell_type": "markdown",
   "metadata": {
    "editable": true,
    "slideshow": {
     "slide_type": "slide"
    },
    "tags": []
   },
   "source": [
    "## Count Words"
   ]
  },
  {
   "cell_type": "code",
   "execution_count": 10,
   "metadata": {
    "editable": true,
    "slideshow": {
     "slide_type": ""
    },
    "tags": []
   },
   "outputs": [
    {
     "data": {
      "text/plain": [
       "[('NLP', 2), ('social', 2), ('I', 1)]"
      ]
     },
     "execution_count": 10,
     "metadata": {},
     "output_type": "execute_result"
    }
   ],
   "source": [
    "from collections import Counter\n",
    "\n",
    "# initialize a counter object\n",
    "counter = Counter()\n",
    "\n",
    "# split the text and pass all elemnents (~words) to the counter\n",
    "counter.update(text.split(\" \"))\n",
    "\n",
    "# get the three most common words\n",
    "counter.most_common(3)\n"
   ]
  },
  {
   "cell_type": "markdown",
   "metadata": {
    "editable": true,
    "slideshow": {
     "slide_type": "slide"
    },
    "tags": []
   },
   "source": [
    "## Read from Textfiles"
   ]
  },
  {
   "cell_type": "code",
   "execution_count": 11,
   "metadata": {
    "editable": true,
    "slideshow": {
     "slide_type": ""
    },
    "tags": []
   },
   "outputs": [
    {
     "name": "stdout",
     "output_type": "stream",
     "text": [
      "IMPRESSUM\n",
      "GRÜNE Schweiz\n",
      "Waisenhausplatz 21\n",
      "3011 Bern\n",
      "Tel. 031 326 66 00\n",
      "www.gruene.ch\n",
      "gruene@gruene.\n"
     ]
    }
   ],
   "source": [
    "from pathlib import Path\n",
    "\n",
    "infile = Path(\"../data/swiss_party_programmes/txt/gruene_programmes/gruene_programme_2019.txt\")\n",
    "\n",
    "text = infile.read_text()\n",
    "\n",
    "# show first 100 characters of file \n",
    "print(text[0:100])\n"
   ]
  },
  {
   "attachments": {},
   "cell_type": "markdown",
   "metadata": {
    "editable": true,
    "slideshow": {
     "slide_type": "slide"
    },
    "tags": []
   },
   "source": [
    "## Write into Textfiles"
   ]
  },
  {
   "cell_type": "code",
   "execution_count": 12,
   "metadata": {
    "editable": true,
    "slideshow": {
     "slide_type": ""
    },
    "tags": []
   },
   "outputs": [],
   "source": [
    "# write content to file\n",
    "outfile = Path(\"../data/scanned_pdf_sample/fdp_scan_party_programme_1947_lowercased.txt\")\n",
    "\n",
    "text = text.lower()\n",
    "\n",
    "# write to file\n",
    "with outfile.open(\"w\") as f:\n",
    "    f.write(text)\n"
   ]
  },
  {
   "attachments": {},
   "cell_type": "markdown",
   "metadata": {
    "editable": true,
    "slideshow": {
     "slide_type": "slide"
    },
    "tags": []
   },
   "source": [
    "## Counting Words in a Textfile"
   ]
  },
  {
   "cell_type": "code",
   "execution_count": 23,
   "metadata": {
    "editable": true,
    "slideshow": {
     "slide_type": ""
    },
    "tags": []
   },
   "outputs": [
    {
     "data": {
      "text/plain": [
       "[('und', 595), ('die', 517), ('der', 394), ('', 277), ('für', 217)]"
      ]
     },
     "execution_count": 23,
     "metadata": {},
     "output_type": "execute_result"
    }
   ],
   "source": [
    "from pathlib import Path\n",
    "import re\n",
    "\n",
    "infile = Path(\"../data/swiss_party_programmes/txt/gruene_programmes/gruene_programme_2019.txt\")\n",
    "text = infile.read_text()\n",
    "\n",
    "# replace (multiple) newlines with single space\n",
    "text = re.sub(r\"\\n+\", \" \", text)\n",
    "\n",
    "# keep only alphanumeric characters and whitespace\n",
    "text = re.sub(r\"[^\\w\\s]\", \"\", text)\n",
    "\n",
    "# lowercase all text\n",
    "text = text.lower()\n",
    "vocab = Counter(text.split(\" \"))\n",
    "\n",
    "# write to file, one word and its frequency per line\n",
    "outfile = Path(\"../analysis/vocab_frq_test.txt\")\n",
    "with outfile.open(\"w\") as f:\n",
    "    for word, frq in vocab.most_common():\n",
    "        line = f\"{word}\\t{frq}\\n\"\n",
    "        f.write(line)\n",
    "\n",
    "vocab.most_common(5)\n"
   ]
  },
  {
   "attachments": {},
   "cell_type": "markdown",
   "metadata": {
    "editable": true,
    "slideshow": {
     "slide_type": "slide"
    },
    "tags": []
   },
   "source": [
    "## PDF: Digitalized or Digital?\n",
    "\n",
    "### Two flavours of PDF documents\n",
    "![Digitalized PDF made from a scanned page](../../lectures/images/pdf_scan.png)\n",
    "![Native PDF converted from digital document (e.g., docx)](../../lectures/images/pdf_digital.png)"
   ]
  },
  {
   "cell_type": "markdown",
   "metadata": {
    "editable": true,
    "slideshow": {
     "slide_type": "slide"
    },
    "tags": []
   },
   "source": [
    "## Conversion of a single native PDFs\n",
    "\n",
    "### Use case: [Swiss party programmes](https://visuals.manifesto-project.wzb.eu/mpdb-shiny/cmp_dashboard_dataset/)\n"
   ]
  },
  {
   "cell_type": "code",
   "execution_count": 17,
   "metadata": {
    "editable": true,
    "slideshow": {
     "slide_type": ""
    },
    "tags": []
   },
   "outputs": [
    {
     "name": "stdout",
     "output_type": "stream",
     "text": [
      "impressum grüne schweiz waisenhausplatz 21 3011 bern tel 031 326 66 00 wwwgruenech gruenegruenech postkonto 80267473 wahlplattform 2019  2023 beschlossen an der delegiertenversammlung vom 12 januar 2019 in emmen ergänzt durch den resolutionsbeschluss der delegiertenversammlung vom 6 april 2019 in sierre wahlplattform der grünen schweiz 2019  2023 ii inhaltsverzeichnis genderneutrale sprache 4 einleitung 5 wofür wir uns einsetzen 6 1 1 die grünen sind die partei der umwelt 11 für die umsetzung de\n"
     ]
    }
   ],
   "source": [
    "from pypdf import PdfReader\n",
    "\n",
    "# path to PDF file\n",
    "pdf_path = Path(\"../data/swiss_party_programmes/pdf/gruene_programmes/gruene_programme_2019.pdf\")\n",
    "\n",
    "reader = PdfReader(pdf_path)\n",
    "\n",
    "for page in reader.pages:\n",
    "    text_page = page.extract_text()\n",
    "    text += \" \" + text_page\n",
    "\n",
    "print(text[:500])\n"
   ]
  },
  {
   "attachments": {},
   "cell_type": "markdown",
   "metadata": {
    "editable": true,
    "slideshow": {
     "slide_type": "slide"
    },
    "tags": []
   },
   "source": [
    "## Optical Character Recognition (OCR)\n",
    "\n",
    "\n",
    "- OCR ~ convert images into text\n",
    "  - extract text from scans/images\n",
    "- `tesseract` performs OCR\n",
    "  - language-specific models\n",
    "  - supports handwriting + Fraktur texts\n",
    "- image quality is crucial"
   ]
  },
  {
   "cell_type": "markdown",
   "metadata": {
    "editable": true,
    "slideshow": {
     "slide_type": "slide"
    },
    "tags": []
   },
   "source": [
    "<img src=\"../../lectures/images/ocr.png\" alt=\"Steps when performing OCR\" style=\"width: 500px;\"/>"
   ]
  },
  {
   "attachments": {},
   "cell_type": "markdown",
   "metadata": {
    "editable": true,
    "slideshow": {
     "slide_type": "slide"
    },
    "tags": []
   },
   "source": [
    "## Conversion of a single digitalized PDF\n",
    "\n",
    "### use-case: [historical party programmes](https://visuals.manifesto-project.wzb.eu/mpdb-shiny/cmp_dashboard_dataset/)\n",
    "\n",
    "1. extract image from PDF\n",
    "2. run optical character recognition (OCR) on the image"
   ]
  },
  {
   "cell_type": "code",
   "execution_count": 19,
   "metadata": {
    "editable": true,
    "slideshow": {
     "slide_type": ""
    },
    "tags": []
   },
   "outputs": [
    {
     "name": "stdout",
     "output_type": "stream",
     "text": [
      " G3 420 47\n",
      "\n",
      "FREIHEIT\n",
      "FÜR UNSERE ZEIT\n",
      "\n",
      "Vorschläge zur Orientierung\n",
      "der freisinnigen Politik\n",
      "\n",
      "nach dem\n"
     ]
    }
   ],
   "source": [
    "import pytesseract\n",
    "from pdf2image import convert_from_path\n",
    "\n",
    "# path to PDF file\n",
    "pdf_path = Path(\"../data/scanned_pdf_sample/fdp_scan_party_programme_1947.pdf\")\n",
    "\n",
    "# convert PDF to images (one image per page)\n",
    "pages = convert_from_path(pdf_path, fmt=\"png\")\n",
    "\n",
    "# initialize text to collect the text per page\n",
    "text = \"\"\n",
    "\n",
    "# iterate over pages\n",
    "for pageNum,imgBlob in enumerate(pages):\n",
    "    # extract text from image per page\n",
    "    text_page = pytesseract.image_to_string(imgBlob, lang='deu')\n",
    "\n",
    "    # append text for each page\n",
    "    text += \" \" + text_page\n",
    "\n",
    "print(text[:100])"
   ]
  },
  {
   "cell_type": "markdown",
   "metadata": {
    "editable": true,
    "slideshow": {
     "slide_type": "slide"
    },
    "tags": []
   },
   "source": [
    "## Extract the text from all PDFs in a folder"
   ]
  },
  {
   "cell_type": "code",
   "execution_count": null,
   "metadata": {
    "editable": true,
    "slideshow": {
     "slide_type": ""
    },
    "tags": []
   },
   "outputs": [],
   "source": [
    "# path to PDF directory\n",
    "indir = Path(\"../data/scanned_pdf_sample/\")\n",
    "outdir = Path(\"../data/scanned_pdf_sample/extracted\")\n",
    "\n",
    "# create output folder if it does not exist\n",
    "outdir.mkdir(parents=True, exist_ok=True)\n",
    "\n",
    "# iterate over all PDFs\n",
    "for infile in indir.glob(pattern=\"*.pdf\"):\n",
    "    print(f\"Reading PDF file: {infile}\")\n",
    "    \n",
    "    pages = convert_from_path(infile, fmt=\"png\")\n",
    "    text = \"\"\n",
    "    \n",
    "    for pageNum,imgBlob in enumerate(pages):\n",
    "        text_page = pytesseract.image_to_string(imgBlob, lang='deu')\n",
    "        text += \" \" + text_page\n",
    "\n",
    "    # define name of outfile (name.pdf -> name.txt)\n",
    "    outfile = outdir / (infile.stem + \".txt\")\n",
    "\n",
    "    # write content to file\n",
    "    with outfile.open(\"w\") as f:\n",
    "        f.write(text)\n",
    "    \n",
    "    print(f\"Extracted text to: {outfile}\")"
   ]
  },
  {
   "cell_type": "markdown",
   "metadata": {
    "editable": true,
    "slideshow": {
     "slide_type": "slide"
    },
    "tags": []
   },
   "source": [
    "## Bonus: Clean up Artefacts"
   ]
  },
  {
   "cell_type": "markdown",
   "metadata": {
    "editable": true,
    "slideshow": {
     "slide_type": ""
    },
    "tags": []
   },
   "source": [
    "- remove empty lines\n",
    "- remove page numbers\n",
    "- remove footer\n",
    "- merge hyphenated words"
   ]
  },
  {
   "cell_type": "code",
   "execution_count": 24,
   "metadata": {
    "editable": true,
    "slideshow": {
     "slide_type": "slide"
    },
    "tags": []
   },
   "outputs": [
    {
     "name": "stdout",
     "output_type": "stream",
     "text": [
      "\n",
      "This is an example Text.\n",
      "\n",
      "Keep this and the following.\n",
      "\n"
     ]
    }
   ],
   "source": [
    "# Remove multiple lines in a string using regular expressions\n",
    "\n",
    "import re\n",
    "\n",
    "text = \"\"\"\n",
    "This is an example Text.\n",
    "\n",
    "YOUR_PATTERN REMOVE THIS\n",
    "\n",
    "Keep this and the following.\n",
    "\"\"\"\n",
    "\n",
    "# remove a multiline string by substituting the match with an empty string\n",
    "# re.DOTALL make the . matching the newline character \\n\n",
    "text_clean = re.sub(\"YOUR_PATTERN.*\\n\\n\", \"\", text, re.DOTALL)\n",
    "\n",
    "print(text_clean)"
   ]
  }
 ],
 "metadata": {
  "celltoolbar": "Slideshow",
  "kernelspec": {
   "display_name": "Python 3 (ipykernel)",
   "language": "python",
   "name": "python3"
  },
  "language_info": {
   "codemirror_mode": {
    "name": "ipython",
    "version": 3
   },
   "file_extension": ".py",
   "mimetype": "text/x-python",
   "name": "python",
   "nbconvert_exporter": "python",
   "pygments_lexer": "ipython3",
   "version": "3.11.6"
  },
  "rise": {
   "enable_chalkboard": true
  },
  "vscode": {
   "interpreter": {
    "hash": "2225c0e19c3f0c13ccd5f798c9a69d34844d1ef8ef2cd78fdeb33c1579f2ce2f"
   }
  }
 },
 "nbformat": 4,
 "nbformat_minor": 4
}
