{
 "cells": [
  {
   "cell_type": "markdown",
   "metadata": {
    "slideshow": {
     "slide_type": "slide"
    }
   },
   "source": [
    "<section id=\"title-slide\">\n",
    "  <h1 class=\"title\">The ABC of Computational Text Analysis</h1>\n",
    "  <h2 class=\"subtitle\">#10: Data Analysis of Swiss Media</h2>\n",
    "  <p class=\"author\">Alex Flückiger</p><p class=\"date\">04 May 2023</p>\n",
    "</section>"
   ]
  },
  {
   "cell_type": "markdown",
   "metadata": {
    "slideshow": {
     "slide_type": "slide"
    }
   },
   "source": [
    "## Getting started \n",
    "1. Open VS Code\n",
    "2. Windows: Make sure that you are connected to WSL (green-badge in left-lower corner)\n",
    "3. Open the `KED2023` folder via the menu: `File` > `Open Folder`\n",
    "4. Navigate to `KED2023/materials/code/KED2023_10.ipynb` and open with double-click\n",
    "5. Run the code with `Run all` via the top menu"
   ]
  },
  {
   "cell_type": "markdown",
   "metadata": {
    "slideshow": {
     "slide_type": "slide"
    }
   },
   "source": [
    "## Best Practices\n",
    "- Check the values of variables in the `Variable Explorer`\n",
    "- Use `tab` for auto-completion"
   ]
  },
  {
   "cell_type": "markdown",
   "metadata": {
    "slideshow": {
     "slide_type": "slide"
    }
   },
   "source": [
    "## Curate a Dataset on Wokeness in Swiss Media\n",
    "\n",
    "Dataset is based on the following criteria:\n",
    "- article contains the word `woke` (topic: wokeness)\n",
    "- published by NZZ or Tages-Anzeiger\n",
    "- published between 2000-2022\n",
    "\n",
    "![Query on Swissdox!](../../lectures/images/swissdox_woke.png)"
   ]
  },
  {
   "cell_type": "markdown",
   "metadata": {
    "slideshow": {
     "slide_type": "slide"
    }
   },
   "source": [
    "## Modules\n",
    "#### Standing of the Shoulders of Giants\n",
    "- [pandas](https://pandas.pydata.org/docs/getting_started/intro_tutorials/index.html): analyze tabular data \n",
    "- [plotnine](https://plotnine.readthedocs.io): visualize anything (*ggplot for Python*)\n",
    "- [BeautifulSoup](https://www.crummy.com/software/BeautifulSoup/bs4/doc/#): extract data from HTML and XML files"
   ]
  },
  {
   "cell_type": "markdown",
   "metadata": {
    "slideshow": {
     "slide_type": "slide"
    }
   },
   "source": [
    "# Importing Modules\n",
    "\n",
    "various ways of importing"
   ]
  },
  {
   "cell_type": "code",
   "execution_count": 1,
   "metadata": {},
   "outputs": [],
   "source": [
    "import pandas as pd\n",
    "from bs4 import BeautifulSoup\n",
    "import plotnine as pn"
   ]
  },
  {
   "cell_type": "markdown",
   "metadata": {
    "slideshow": {
     "slide_type": "slide"
    }
   },
   "source": [
    "## Load Dataset"
   ]
  },
  {
   "cell_type": "code",
   "execution_count": 2,
   "metadata": {},
   "outputs": [
    {
     "data": {
      "text/html": [
       "<div>\n",
       "<style scoped>\n",
       "    .dataframe tbody tr th:only-of-type {\n",
       "        vertical-align: middle;\n",
       "    }\n",
       "\n",
       "    .dataframe tbody tr th {\n",
       "        vertical-align: top;\n",
       "    }\n",
       "\n",
       "    .dataframe thead th {\n",
       "        text-align: right;\n",
       "    }\n",
       "</style>\n",
       "<table border=\"1\" class=\"dataframe\">\n",
       "  <thead>\n",
       "    <tr style=\"text-align: right;\">\n",
       "      <th></th>\n",
       "      <th>id</th>\n",
       "      <th>pubtime</th>\n",
       "      <th>medium_code</th>\n",
       "      <th>medium_name</th>\n",
       "      <th>rubric</th>\n",
       "      <th>regional</th>\n",
       "      <th>doctype</th>\n",
       "      <th>doctype_description</th>\n",
       "      <th>language</th>\n",
       "      <th>char_count</th>\n",
       "      <th>dateline</th>\n",
       "      <th>head</th>\n",
       "      <th>subhead</th>\n",
       "      <th>content_id</th>\n",
       "      <th>content</th>\n",
       "    </tr>\n",
       "  </thead>\n",
       "  <tbody>\n",
       "    <tr>\n",
       "      <th>0</th>\n",
       "      <td>39835818</td>\n",
       "      <td>2020-06-18 00:00:00+02</td>\n",
       "      <td>TA</td>\n",
       "      <td>Tages-Anzeiger</td>\n",
       "      <td>Meinungen</td>\n",
       "      <td>NaN</td>\n",
       "      <td>PND</td>\n",
       "      <td>National daily newspaper</td>\n",
       "      <td>de</td>\n",
       "      <td>3785</td>\n",
       "      <td>NaN</td>\n",
       "      <td>Mobbing im Zeichen des «Guten»</td>\n",
       "      <td>NaN</td>\n",
       "      <td>00961432-028a-ca23-6f60-f079f2d7c048</td>\n",
       "      <td>&lt;tx&gt;&lt;ld&gt;&lt;p&gt;Aus Angst vor Reputationsschäden re...</td>\n",
       "    </tr>\n",
       "    <tr>\n",
       "      <th>1</th>\n",
       "      <td>42536108</td>\n",
       "      <td>2021-04-16 00:00:00+02</td>\n",
       "      <td>NZZ</td>\n",
       "      <td>Neue Zürcher Zeitung</td>\n",
       "      <td>Feuilleton</td>\n",
       "      <td>NaN</td>\n",
       "      <td>PND</td>\n",
       "      <td>National daily newspaper</td>\n",
       "      <td>de</td>\n",
       "      <td>12305</td>\n",
       "      <td>NaN</td>\n",
       "      <td>«Foucault lachte über Pädophilie»</td>\n",
       "      <td>Hat Michel Foucault Buben missbraucht? Von die...</td>\n",
       "      <td>013e9093-5b0e-5356-d240-c9addcbfb8fc</td>\n",
       "      <td>&lt;tx&gt;&lt;au&gt;Claudia Mäder&lt;/au&gt;&lt;p&gt;Herr Bruckner, wa...</td>\n",
       "    </tr>\n",
       "    <tr>\n",
       "      <th>2</th>\n",
       "      <td>31895707</td>\n",
       "      <td>2017-05-06 00:00:00+02</td>\n",
       "      <td>TA</td>\n",
       "      <td>Tages-Anzeiger</td>\n",
       "      <td>Wochenende Kultur &amp; Gesellschaft</td>\n",
       "      <td>NaN</td>\n",
       "      <td>PND</td>\n",
       "      <td>National daily newspaper</td>\n",
       "      <td>de</td>\n",
       "      <td>7883</td>\n",
       "      <td>NaN</td>\n",
       "      <td>Der Hass der Wohlgesinnten</td>\n",
       "      <td>NaN</td>\n",
       "      <td>03659813-b0f6-591a-855c-4f6964091cab</td>\n",
       "      <td>&lt;tx&gt;&lt;ld&gt;&lt;p&gt;Rate mal, wer zum Essen kommt: Die ...</td>\n",
       "    </tr>\n",
       "  </tbody>\n",
       "</table>\n",
       "</div>"
      ],
      "text/plain": [
       "         id                 pubtime medium_code           medium_name  \\\n",
       "0  39835818  2020-06-18 00:00:00+02          TA        Tages-Anzeiger   \n",
       "1  42536108  2021-04-16 00:00:00+02         NZZ  Neue Zürcher Zeitung   \n",
       "2  31895707  2017-05-06 00:00:00+02          TA        Tages-Anzeiger   \n",
       "\n",
       "                             rubric regional doctype  \\\n",
       "0                         Meinungen      NaN     PND   \n",
       "1                        Feuilleton      NaN     PND   \n",
       "2  Wochenende Kultur & Gesellschaft      NaN     PND   \n",
       "\n",
       "        doctype_description language  char_count dateline  \\\n",
       "0  National daily newspaper       de        3785      NaN   \n",
       "1  National daily newspaper       de       12305      NaN   \n",
       "2  National daily newspaper       de        7883      NaN   \n",
       "\n",
       "                                head  \\\n",
       "0     Mobbing im Zeichen des «Guten»   \n",
       "1  «Foucault lachte über Pädophilie»   \n",
       "2         Der Hass der Wohlgesinnten   \n",
       "\n",
       "                                             subhead  \\\n",
       "0                                                NaN   \n",
       "1  Hat Michel Foucault Buben missbraucht? Von die...   \n",
       "2                                                NaN   \n",
       "\n",
       "                             content_id  \\\n",
       "0  00961432-028a-ca23-6f60-f079f2d7c048   \n",
       "1  013e9093-5b0e-5356-d240-c9addcbfb8fc   \n",
       "2  03659813-b0f6-591a-855c-4f6964091cab   \n",
       "\n",
       "                                             content  \n",
       "0  <tx><ld><p>Aus Angst vor Reputationsschäden re...  \n",
       "1  <tx><au>Claudia Mäder</au><p>Herr Bruckner, wa...  \n",
       "2  <tx><ld><p>Rate mal, wer zum Essen kommt: Die ...  "
      ]
     },
     "execution_count": 2,
     "metadata": {},
     "output_type": "execute_result"
    }
   ],
   "source": [
    "# filepath to dataset\n",
    "fname = \"../data/swiss_media_wokeness.tsv\"\n",
    "\n",
    "# load dataset\n",
    "df = pd.read_csv(fname, sep=\"\\t\")\n",
    "\n",
    "# show the 3 first lines of the dataset\n",
    "df.head(3)\n"
   ]
  },
  {
   "cell_type": "markdown",
   "metadata": {
    "slideshow": {
     "slide_type": "slide"
    }
   },
   "source": [
    "## Get Meta-Information of Dataset"
   ]
  },
  {
   "cell_type": "code",
   "execution_count": 3,
   "metadata": {},
   "outputs": [
    {
     "data": {
      "text/plain": [
       "(152, 15)"
      ]
     },
     "execution_count": 3,
     "metadata": {},
     "output_type": "execute_result"
    }
   ],
   "source": [
    "# show the dateset's shape (rows x columns)\n",
    "df.shape\n"
   ]
  },
  {
   "cell_type": "code",
   "execution_count": 4,
   "metadata": {},
   "outputs": [
    {
     "name": "stdout",
     "output_type": "stream",
     "text": [
      "<class 'pandas.core.frame.DataFrame'>\n",
      "RangeIndex: 152 entries, 0 to 151\n",
      "Data columns (total 15 columns):\n",
      " #   Column               Non-Null Count  Dtype \n",
      "---  ------               --------------  ----- \n",
      " 0   id                   152 non-null    int64 \n",
      " 1   pubtime              152 non-null    object\n",
      " 2   medium_code          152 non-null    object\n",
      " 3   medium_name          152 non-null    object\n",
      " 4   rubric               149 non-null    object\n",
      " 5   regional             4 non-null      object\n",
      " 6   doctype              152 non-null    object\n",
      " 7   doctype_description  152 non-null    object\n",
      " 8   language             152 non-null    object\n",
      " 9   char_count           152 non-null    int64 \n",
      " 10  dateline             19 non-null     object\n",
      " 11  head                 152 non-null    object\n",
      " 12  subhead              88 non-null     object\n",
      " 13  content_id           152 non-null    object\n",
      " 14  content              152 non-null    object\n",
      "dtypes: int64(2), object(13)\n",
      "memory usage: 17.9+ KB\n"
     ]
    }
   ],
   "source": [
    "# get general information about dataset\n",
    "df.info()\n"
   ]
  },
  {
   "cell_type": "markdown",
   "metadata": {
    "slideshow": {
     "slide_type": "slide"
    }
   },
   "source": [
    "## Remove irrelevant Data"
   ]
  },
  {
   "cell_type": "code",
   "execution_count": 5,
   "metadata": {},
   "outputs": [
    {
     "data": {
      "text/html": [
       "<div>\n",
       "<style scoped>\n",
       "    .dataframe tbody tr th:only-of-type {\n",
       "        vertical-align: middle;\n",
       "    }\n",
       "\n",
       "    .dataframe tbody tr th {\n",
       "        vertical-align: top;\n",
       "    }\n",
       "\n",
       "    .dataframe thead th {\n",
       "        text-align: right;\n",
       "    }\n",
       "</style>\n",
       "<table border=\"1\" class=\"dataframe\">\n",
       "  <thead>\n",
       "    <tr style=\"text-align: right;\">\n",
       "      <th></th>\n",
       "      <th>pubtime</th>\n",
       "      <th>medium_code</th>\n",
       "      <th>medium_name</th>\n",
       "      <th>rubric</th>\n",
       "      <th>language</th>\n",
       "      <th>char_count</th>\n",
       "      <th>head</th>\n",
       "      <th>subhead</th>\n",
       "      <th>content</th>\n",
       "    </tr>\n",
       "  </thead>\n",
       "  <tbody>\n",
       "    <tr>\n",
       "      <th>0</th>\n",
       "      <td>2020-06-18 00:00:00+02</td>\n",
       "      <td>TA</td>\n",
       "      <td>Tages-Anzeiger</td>\n",
       "      <td>Meinungen</td>\n",
       "      <td>de</td>\n",
       "      <td>3785</td>\n",
       "      <td>Mobbing im Zeichen des «Guten»</td>\n",
       "      <td>NaN</td>\n",
       "      <td>&lt;tx&gt;&lt;ld&gt;&lt;p&gt;Aus Angst vor Reputationsschäden re...</td>\n",
       "    </tr>\n",
       "    <tr>\n",
       "      <th>1</th>\n",
       "      <td>2021-04-16 00:00:00+02</td>\n",
       "      <td>NZZ</td>\n",
       "      <td>Neue Zürcher Zeitung</td>\n",
       "      <td>Feuilleton</td>\n",
       "      <td>de</td>\n",
       "      <td>12305</td>\n",
       "      <td>«Foucault lachte über Pädophilie»</td>\n",
       "      <td>Hat Michel Foucault Buben missbraucht? Von die...</td>\n",
       "      <td>&lt;tx&gt;&lt;au&gt;Claudia Mäder&lt;/au&gt;&lt;p&gt;Herr Bruckner, wa...</td>\n",
       "    </tr>\n",
       "    <tr>\n",
       "      <th>2</th>\n",
       "      <td>2017-05-06 00:00:00+02</td>\n",
       "      <td>TA</td>\n",
       "      <td>Tages-Anzeiger</td>\n",
       "      <td>Wochenende Kultur &amp; Gesellschaft</td>\n",
       "      <td>de</td>\n",
       "      <td>7883</td>\n",
       "      <td>Der Hass der Wohlgesinnten</td>\n",
       "      <td>NaN</td>\n",
       "      <td>&lt;tx&gt;&lt;ld&gt;&lt;p&gt;Rate mal, wer zum Essen kommt: Die ...</td>\n",
       "    </tr>\n",
       "  </tbody>\n",
       "</table>\n",
       "</div>"
      ],
      "text/plain": [
       "                  pubtime medium_code           medium_name  \\\n",
       "0  2020-06-18 00:00:00+02          TA        Tages-Anzeiger   \n",
       "1  2021-04-16 00:00:00+02         NZZ  Neue Zürcher Zeitung   \n",
       "2  2017-05-06 00:00:00+02          TA        Tages-Anzeiger   \n",
       "\n",
       "                             rubric language  char_count  \\\n",
       "0                         Meinungen       de        3785   \n",
       "1                        Feuilleton       de       12305   \n",
       "2  Wochenende Kultur & Gesellschaft       de        7883   \n",
       "\n",
       "                                head  \\\n",
       "0     Mobbing im Zeichen des «Guten»   \n",
       "1  «Foucault lachte über Pädophilie»   \n",
       "2         Der Hass der Wohlgesinnten   \n",
       "\n",
       "                                             subhead  \\\n",
       "0                                                NaN   \n",
       "1  Hat Michel Foucault Buben missbraucht? Von die...   \n",
       "2                                                NaN   \n",
       "\n",
       "                                             content  \n",
       "0  <tx><ld><p>Aus Angst vor Reputationsschäden re...  \n",
       "1  <tx><au>Claudia Mäder</au><p>Herr Bruckner, wa...  \n",
       "2  <tx><ld><p>Rate mal, wer zum Essen kommt: Die ...  "
      ]
     },
     "execution_count": 5,
     "metadata": {},
     "output_type": "execute_result"
    }
   ],
   "source": [
    "# define a list of irrelevant columns\n",
    "columns_to_drop = [\n",
    "    \"id\",\n",
    "    \"regional\",\n",
    "    \"doctype\",\n",
    "    \"doctype_description\",\n",
    "    \"dateline\",\n",
    "    \"content_id\",\n",
    "]\n",
    "# remove these columns and save resulting dataset into a new variable \n",
    "df_sub = df.drop(columns=columns_to_drop)\n",
    "\n",
    "df_sub.head(3)\n"
   ]
  },
  {
   "cell_type": "markdown",
   "metadata": {
    "slideshow": {
     "slide_type": "slide"
    }
   },
   "source": [
    "## Get Statistics for numerical Columns"
   ]
  },
  {
   "cell_type": "code",
   "execution_count": 6,
   "metadata": {},
   "outputs": [
    {
     "data": {
      "text/html": [
       "<div>\n",
       "<style scoped>\n",
       "    .dataframe tbody tr th:only-of-type {\n",
       "        vertical-align: middle;\n",
       "    }\n",
       "\n",
       "    .dataframe tbody tr th {\n",
       "        vertical-align: top;\n",
       "    }\n",
       "\n",
       "    .dataframe thead th {\n",
       "        text-align: right;\n",
       "    }\n",
       "</style>\n",
       "<table border=\"1\" class=\"dataframe\">\n",
       "  <thead>\n",
       "    <tr style=\"text-align: right;\">\n",
       "      <th></th>\n",
       "      <th>char_count</th>\n",
       "    </tr>\n",
       "  </thead>\n",
       "  <tbody>\n",
       "    <tr>\n",
       "      <th>count</th>\n",
       "      <td>152.00000</td>\n",
       "    </tr>\n",
       "    <tr>\n",
       "      <th>mean</th>\n",
       "      <td>7420.75000</td>\n",
       "    </tr>\n",
       "    <tr>\n",
       "      <th>std</th>\n",
       "      <td>3650.99805</td>\n",
       "    </tr>\n",
       "    <tr>\n",
       "      <th>min</th>\n",
       "      <td>343.00000</td>\n",
       "    </tr>\n",
       "    <tr>\n",
       "      <th>25%</th>\n",
       "      <td>4592.75000</td>\n",
       "    </tr>\n",
       "    <tr>\n",
       "      <th>50%</th>\n",
       "      <td>7063.00000</td>\n",
       "    </tr>\n",
       "    <tr>\n",
       "      <th>75%</th>\n",
       "      <td>9533.50000</td>\n",
       "    </tr>\n",
       "    <tr>\n",
       "      <th>max</th>\n",
       "      <td>20971.00000</td>\n",
       "    </tr>\n",
       "  </tbody>\n",
       "</table>\n",
       "</div>"
      ],
      "text/plain": [
       "        char_count\n",
       "count    152.00000\n",
       "mean    7420.75000\n",
       "std     3650.99805\n",
       "min      343.00000\n",
       "25%     4592.75000\n",
       "50%     7063.00000\n",
       "75%     9533.50000\n",
       "max    20971.00000"
      ]
     },
     "execution_count": 6,
     "metadata": {},
     "output_type": "execute_result"
    }
   ],
   "source": [
    "# Get descriptive stats for each numerical column\n",
    "df_sub.describe()\n"
   ]
  },
  {
   "cell_type": "markdown",
   "metadata": {
    "slideshow": {
     "slide_type": "slide"
    }
   },
   "source": [
    "## Count Articles per..."
   ]
  },
  {
   "cell_type": "code",
   "execution_count": 7,
   "metadata": {},
   "outputs": [
    {
     "data": {
      "text/plain": [
       "Neue Zürcher Zeitung    103\n",
       "Tages-Anzeiger           49\n",
       "Name: medium_name, dtype: int64"
      ]
     },
     "execution_count": 7,
     "metadata": {},
     "output_type": "execute_result"
    }
   ],
   "source": [
    "# number of articles per newspaper\n",
    "df_sub[\"medium_name\"].value_counts()"
   ]
  },
  {
   "cell_type": "code",
   "execution_count": 8,
   "metadata": {},
   "outputs": [
    {
     "data": {
      "text/plain": [
       "Feuilleton               46\n",
       "Kultur & Gesellschaft    18\n",
       "International            16\n",
       "Meinung und Debatte      15\n",
       "Medien                    7\n",
       "Name: rubric, dtype: int64"
      ]
     },
     "execution_count": 8,
     "metadata": {},
     "output_type": "execute_result"
    }
   ],
   "source": [
    "# number of articles per rubric (limited to 5 most frequent)\n",
    "df_sub[\"rubric\"].value_counts()[:5]"
   ]
  },
  {
   "cell_type": "markdown",
   "metadata": {
    "slideshow": {
     "slide_type": "slide"
    }
   },
   "source": [
    "## Visualize absolute Frequency as Bar Plot"
   ]
  },
  {
   "cell_type": "code",
   "execution_count": 9,
   "metadata": {},
   "outputs": [
    {
     "data": {
      "text/plain": [
       "<Axes: title={'center': 'Number of articles per category'}>"
      ]
     },
     "execution_count": 9,
     "metadata": {},
     "output_type": "execute_result"
    },
    {
     "data": {
      "image/png": "[encoded data removed]",
      "text/plain": [
       "<Figure size 640x480 with 1 Axes>"
      ]
     },
     "metadata": {},
     "output_type": "display_data"
    }
   ],
   "source": [
    "# visualize the number of articles per rubric as bar plot (same numbers as before)\n",
    "# limit to the 10 most frequent rubrics\n",
    "df_sub[\"rubric\"].value_counts()[:10].plot(\n",
    "    kind=\"bar\", title=\"Number of articles per category\"\n",
    ")\n"
   ]
  },
  {
   "cell_type": "markdown",
   "metadata": {
    "slideshow": {
     "slide_type": "slide"
    }
   },
   "source": [
    "## Visualize relative Frequency as Bar Plot"
   ]
  },
  {
   "cell_type": "code",
   "execution_count": 10,
   "metadata": {},
   "outputs": [
    {
     "data": {
      "text/plain": [
       "<Axes: title={'center': 'Relative frequency of articles per category'}>"
      ]
     },
     "execution_count": 10,
     "metadata": {},
     "output_type": "execute_result"
    },
    {
     "data": {
      "image/png": "[encoded data removed]",
      "text/plain": [
       "<Figure size 640x480 with 1 Axes>"
      ]
     },
     "metadata": {},
     "output_type": "display_data"
    }
   ],
   "source": [
    "# visualize the relative frequency of articles per rubric (i.e., normalizing the absolute numbers)\n",
    "df_sub[\"rubric\"].value_counts(normalize=True)[:10].plot(\n",
    "    kind=\"bar\", title=\"Relative frequency of articles per category\"\n",
    ")\n"
   ]
  },
  {
   "cell_type": "markdown",
   "metadata": {
    "slideshow": {
     "slide_type": "slide"
    }
   },
   "source": [
    "# Data is rarely clean\n",
    "![Clean your data](../../lectures/images/clean_data.png)"
   ]
  },
  {
   "cell_type": "markdown",
   "metadata": {
    "slideshow": {
     "slide_type": "slide"
    }
   },
   "source": [
    "## Clean textual content"
   ]
  },
  {
   "cell_type": "code",
   "execution_count": 11,
   "metadata": {
    "slideshow": {
     "slide_type": "-"
    }
   },
   "outputs": [
    {
     "data": {
      "text/plain": [
       "'<tx><ld><p>Aus Angst vor Reputationsschäden reagieren Firmen oft kopflos, wenn sie einen Shitstorm befürchten. Doch das kann sich rächen.</p></ld><p><au>Michèle Binswanger</au></p><p>Die sozialen Medien waren dazu gedacht, die Meinungsäusserungsfreiheit zu fördern. Stattdessen bedrohen sie sie mittlerweile. Das zeigte sich vergangenes Wochenende. Kaum 24 Stunden nachdem sich ein Shitstorm gegen Influencerin Mimi Jäger erhoben hatte, zeigten sich einige ihrer Auftraggeber auf Twitter «bestürzt» (die Post), bekannten sich zu «Diversität und Vielfalt» (Philips) und gelobten, künftig nicht mehr mit Jäger zusammenzuarbeiten. Auffällig an diesen Bekenntnissen ist, wie reflexartig sie erfolgten und wie identisch sie in der Wortwahl sind. Ganz so, als zitiere man aus einem Handbuch. Und keiner machte sich die Mühe, zu überprüfen, was an den Anschuldigungen gegen Jäger eigentlich dran war. Nämlich herzlich wenig.</p><p>Wir leben in politisch aufgeladenen Zeiten, der Konformitätsdruck ist gross. Wer ausschert, macht sich zum Ziel und riskiert eine Diffamierungskampagne, die Existenzen vernichten kann. Ganz zu schweigen von den psychologischen Folgen solchen Cybermobbings, das legitim scheint, wenn es sich nur den moralisch richtigen Anschein gibt. Der Fall Jäger zeigt, wie leichtfertig das geschieht: Dann reicht der blosse Verdacht auf Fehlverhalten, um dem Mob in den sozialen Medien nachzugeben. Der Verdacht ist Prozess, Urteil und Strafe in einem.</p><p>Dass da mittlerweile auch grosse Firmen eilfertig mitmischen, dürfte mit den in den letzten Jahren aufgebauten Social-Media-Abteilungen zu tun haben. Dort arbeiten in der Regel junge Menschen mit viel Meinung, aber wenig Ahnung. Doch anstatt sie zu begleiten, lässt man ihnen freie Hand, weil man glaubt, nur sie würden diese Medien verstehen. Das Gebot ist, authentisch und nahe beim User zu kommunizieren, sich als Teil einer Community zu präsentieren. Und das bedeutet offensichtlich, dass man sich im Zweifelsfall vom Shitstorm mitreissen lässt. Man könnte ja sonst selber zum Ziel zu werden.</p><p>Damit senden diese Abteilungen ein katastrophales Signal: nämlich, dass der Mob die Macht hat, die Personalpolitik oder das Produktsortiment von Unternehmen zu diktieren. Das ist problematisch. Denn ein Shitstorm ist schnell inszeniert und wird auch immer öfter gezielt eingesetzt. Das mag manchmal Gutes bewirken, macht aber auch anfällig. Wer beim blossen Verdacht einknickt, ohne die Hintergründe zu kennen, ist leicht manipulierbar. Und wie Fälle aus der jüngsten Vergangenheit mit Mohrenköpfen oder Migros-Taschen zeigen, kann auch der vorauseilende Kniefall in einen Reputationsschaden münden.</p><p>Auch im Fall Jäger. Denn es ist störend, dass die Hintergründe des Shitstorms kaum zu interessieren schienen. Vielmehr nutzten die Social-Media-Verantwortlichen die Gelegenheit, sich als besonders «woke» zu präsentieren, also als jemand, der für Vielfalt und gegen Diskriminierung steht. Und dies alles auf dem Rücken einer Frau, die sie als Werbeträgerin engagiert hatten. Mittlerweile hat sich die Post entschuldigt, und auch die anderen Firmen räumen ein, möglicherweise überreagiert zu haben.</p><p>Nicht zuletzt sei bemerkt, dass die tatsächliche «Wokeness» dieser Unternehmen zweifelhaft bleibt. So machen fast alle Versicherungen ihre Prämien abhängig vom Pass oder vom Alter ihrer Kunden. Und wie divers ist eigentlich die Belegschaft der Post, der Mobiliar oder von Philips? Bevor man das nächste Mal einfach dem Mob nachgibt, sollte man sich diese Fragen vielleicht zuerst stellen.</p><lg><p>Die Demonstration gegen Rassismus in Zürich blockierte grosste Teile der Stadt – und frustrierte Mimi Jäger. Foto: Keystone</p></lg></tx>'"
      ]
     },
     "execution_count": 11,
     "metadata": {},
     "output_type": "execute_result"
    }
   ],
   "source": [
    "# unfortunately, the document content is not pure and contains HTML-tags\n",
    "# we want to remove these elemnents (e.g. <tx><au><p>)\n",
    "df_sub[\"content\"][0]\n"
   ]
  },
  {
   "cell_type": "markdown",
   "metadata": {
    "slideshow": {
     "slide_type": "slide"
    }
   },
   "source": [
    "## Clean a single Document using BeautifulSoup\n"
   ]
  },
  {
   "cell_type": "code",
   "execution_count": 12,
   "metadata": {
    "slideshow": {
     "slide_type": "-"
    }
   },
   "outputs": [
    {
     "name": "stdout",
     "output_type": "stream",
     "text": [
      "Aus Angst vor Reputationsschäden reagieren Firmen oft kopflos, wenn sie einen Shitstorm befürchten. Doch das kann sich rächen.\n",
      "Die sozialen Medien waren dazu gedacht, die Meinungsäusserungsfreiheit zu fördern. Stattdessen bedrohen sie sie mittlerweile. Das zeigte sich vergangenes Wochenende. Kaum 24 Stunden nachdem sich ein Shitstorm gegen Influencerin Mimi Jäger erhoben hatte, zeigten sich einige ihrer Auftraggeber auf Twitter «bestürzt» (die Post), bekannten sich zu «Diversität und Vielfalt» (Philips) und gelobten, künftig nicht mehr mit Jäger zusammenzuarbeiten. Auffällig an diesen Bekenntnissen ist, wie reflexartig sie erfolgten und wie identisch sie in der Wortwahl sind. Ganz so, als zitiere man aus einem Handbuch. Und keiner machte sich die Mühe, zu überprüfen, was an den Anschuldigungen gegen Jäger eigentlich dran war. Nämlich herzlich wenig.\n",
      "Wir leben in politisch aufgeladenen Zeiten, der Konformitätsdruck ist gross. Wer ausschert, macht sich zum Ziel und riskiert eine Diffamierungskampagne, die Existenzen vernichten kann. Ganz zu schweigen von den psychologischen Folgen solchen Cybermobbings, das legitim scheint, wenn es sich nur den moralisch richtigen Anschein gibt. Der Fall Jäger zeigt, wie leichtfertig das geschieht: Dann reicht der blosse Verdacht auf Fehlverhalten, um dem Mob in den sozialen Medien nachzugeben. Der Verdacht ist Prozess, Urteil und Strafe in einem.\n",
      "Dass da mittlerweile auch grosse Firmen eilfertig mitmischen, dürfte mit den in den letzten Jahren aufgebauten Social-Media-Abteilungen zu tun haben. Dort arbeiten in der Regel junge Menschen mit viel Meinung, aber wenig Ahnung. Doch anstatt sie zu begleiten, lässt man ihnen freie Hand, weil man glaubt, nur sie würden diese Medien verstehen. Das Gebot ist, authentisch und nahe beim User zu kommunizieren, sich als Teil einer Community zu präsentieren. Und das bedeutet offensichtlich, dass man sich im Zweifelsfall vom Shitstorm mitreissen lässt. Man könnte ja sonst selber zum Ziel zu werden.\n",
      "Damit senden diese Abteilungen ein katastrophales Signal: nämlich, dass der Mob die Macht hat, die Personalpolitik oder das Produktsortiment von Unternehmen zu diktieren. Das ist problematisch. Denn ein Shitstorm ist schnell inszeniert und wird auch immer öfter gezielt eingesetzt. Das mag manchmal Gutes bewirken, macht aber auch anfällig. Wer beim blossen Verdacht einknickt, ohne die Hintergründe zu kennen, ist leicht manipulierbar. Und wie Fälle aus der jüngsten Vergangenheit mit Mohrenköpfen oder Migros-Taschen zeigen, kann auch der vorauseilende Kniefall in einen Reputationsschaden münden.\n",
      "Auch im Fall Jäger. Denn es ist störend, dass die Hintergründe des Shitstorms kaum zu interessieren schienen. Vielmehr nutzten die Social-Media-Verantwortlichen die Gelegenheit, sich als besonders «woke» zu präsentieren, also als jemand, der für Vielfalt und gegen Diskriminierung steht. Und dies alles auf dem Rücken einer Frau, die sie als Werbeträgerin engagiert hatten. Mittlerweile hat sich die Post entschuldigt, und auch die anderen Firmen räumen ein, möglicherweise überreagiert zu haben.\n",
      "Nicht zuletzt sei bemerkt, dass die tatsächliche «Wokeness» dieser Unternehmen zweifelhaft bleibt. So machen fast alle Versicherungen ihre Prämien abhängig vom Pass oder vom Alter ihrer Kunden. Und wie divers ist eigentlich die Belegschaft der Post, der Mobiliar oder von Philips? Bevor man das nächste Mal einfach dem Mob nachgibt, sollte man sich diese Fragen vielleicht zuerst stellen.\n",
      "Die Demonstration gegen Rassismus in Zürich blockierte grosste Teile der Stadt – und frustrierte Mimi Jäger. Foto: Keystone\n"
     ]
    }
   ],
   "source": [
    "# assign the first document to a new variable\n",
    "html_doc = df_sub[\"content\"][0]\n",
    "\n",
    "# create beautiful soup object for easy clean-up\n",
    "soup = BeautifulSoup(html_doc)\n",
    "\n",
    "# remove the authors name in the tag, e.g. <au>AUTHORNAME</au>\n",
    "soup.au.decompose()\n",
    "\n",
    "# strip the remaining tags and join the strings by newline\n",
    "text = soup.get_text(separator=\"\\n\", strip=True)\n",
    "\n",
    "# show the cleaned document\n",
    "print(text)\n"
   ]
  },
  {
   "cell_type": "markdown",
   "metadata": {
    "slideshow": {
     "slide_type": "slide"
    }
   },
   "source": [
    "## Clean all Documents in the Dataset"
   ]
  },
  {
   "cell_type": "code",
   "execution_count": 13,
   "metadata": {
    "slideshow": {
     "slide_type": "-"
    }
   },
   "outputs": [
    {
     "name": "stdout",
     "output_type": "stream",
     "text": [
      "Aus Angst vor Reputationsschäden reagieren Firmen oft kopflos, wenn sie einen Shitstorm befürchten. Doch das kann sich rächen.\n",
      "Die sozialen Medien waren dazu gedacht, die Meinungsäusserungsfreiheit zu fördern. Stattdessen bedrohen sie sie mittlerweile. Das zeigte sich vergangenes Wochenende. Kaum 24 Stunden nachdem sich ein Shitstorm gegen Influencerin Mimi Jäger erhoben hatte, zeigten sich einige ihrer Auftraggeber auf Twitter «bestürzt» (die Post), bekannten sich zu «Diversität und Vielfalt» (Philips) und gelobten, künftig nicht mehr mit Jäger zusammenzuarbeiten. Auffällig an diesen Bekenntnissen ist, wie reflexartig sie erfolgten und wie identisch sie in der Wortwahl sind. Ganz so, als zitiere man aus einem Handbuch. Und keiner machte sich die Mühe, zu überprüfen, was an den Anschuldigungen gegen Jäger eigentlich dran war. Nämlich herzlich wenig.\n",
      "Wir leben in politisch aufgeladenen Zeiten, der Konformitätsdruck ist gross. Wer ausschert, macht sich zum Ziel und riskiert eine Diffamierungskampagne, die Existenzen vernichten kann. Ganz zu schweigen von den psychologischen Folgen solchen Cybermobbings, das legitim scheint, wenn es sich nur den moralisch richtigen Anschein gibt. Der Fall Jäger zeigt, wie leichtfertig das geschieht: Dann reicht der blosse Verdacht auf Fehlverhalten, um dem Mob in den sozialen Medien nachzugeben. Der Verdacht ist Prozess, Urteil und Strafe in einem.\n",
      "Dass da mittlerweile auch grosse Firmen eilfertig mitmischen, dürfte mit den in den letzten Jahren aufgebauten Social-Media-Abteilungen zu tun haben. Dort arbeiten in der Regel junge Menschen mit viel Meinung, aber wenig Ahnung. Doch anstatt sie zu begleiten, lässt man ihnen freie Hand, weil man glaubt, nur sie würden diese Medien verstehen. Das Gebot ist, authentisch und nahe beim User zu kommunizieren, sich als Teil einer Community zu präsentieren. Und das bedeutet offensichtlich, dass man sich im Zweifelsfall vom Shitstorm mitreissen lässt. Man könnte ja sonst selber zum Ziel zu werden.\n",
      "Damit senden diese Abteilungen ein katastrophales Signal: nämlich, dass der Mob die Macht hat, die Personalpolitik oder das Produktsortiment von Unternehmen zu diktieren. Das ist problematisch. Denn ein Shitstorm ist schnell inszeniert und wird auch immer öfter gezielt eingesetzt. Das mag manchmal Gutes bewirken, macht aber auch anfällig. Wer beim blossen Verdacht einknickt, ohne die Hintergründe zu kennen, ist leicht manipulierbar. Und wie Fälle aus der jüngsten Vergangenheit mit Mohrenköpfen oder Migros-Taschen zeigen, kann auch der vorauseilende Kniefall in einen Reputationsschaden münden.\n",
      "Auch im Fall Jäger. Denn es ist störend, dass die Hintergründe des Shitstorms kaum zu interessieren schienen. Vielmehr nutzten die Social-Media-Verantwortlichen die Gelegenheit, sich als besonders «woke» zu präsentieren, also als jemand, der für Vielfalt und gegen Diskriminierung steht. Und dies alles auf dem Rücken einer Frau, die sie als Werbeträgerin engagiert hatten. Mittlerweile hat sich die Post entschuldigt, und auch die anderen Firmen räumen ein, möglicherweise überreagiert zu haben.\n",
      "Nicht zuletzt sei bemerkt, dass die tatsächliche «Wokeness» dieser Unternehmen zweifelhaft bleibt. So machen fast alle Versicherungen ihre Prämien abhängig vom Pass oder vom Alter ihrer Kunden. Und wie divers ist eigentlich die Belegschaft der Post, der Mobiliar oder von Philips? Bevor man das nächste Mal einfach dem Mob nachgibt, sollte man sich diese Fragen vielleicht zuerst stellen.\n",
      "Die Demonstration gegen Rassismus in Zürich blockierte grosste Teile der Stadt – und frustrierte Mimi Jäger. Foto: Keystone\n"
     ]
    }
   ],
   "source": [
    "def remove_html_tags(text):\n",
    "    # create beautiful soup object for easy clean-up\n",
    "    soup = BeautifulSoup(text)\n",
    "\n",
    "    try:\n",
    "        # remove the authors name in the tag, e.g. <au>AUTHORNAME</au>\n",
    "        soup.au.decompose()\n",
    "    except AttributeError:\n",
    "        # in some of the articles, there is no <au>AUTHORNAME</au>\n",
    "        # thus, we want to catch the error and just by-pass the raised error\n",
    "        pass\n",
    "\n",
    "    # strip the remaining tags and join the strings by newline\n",
    "    text = soup.get_text(separator=\"\\n\", strip=True)\n",
    "\n",
    "    return text\n",
    "\n",
    "\n",
    "# Call the function remove_html_tags for each cell in the column `content`\n",
    "df_sub[\"content\"] = df_sub[\"content\"].apply(lambda x: remove_html_tags(x))\n",
    "\n",
    "# Check the first document after cleaning\n",
    "print(df_sub[\"content\"][0])\n"
   ]
  },
  {
   "cell_type": "markdown",
   "metadata": {
    "slideshow": {
     "slide_type": "slide"
    }
   },
   "source": [
    "## Exlclude missing Data\n",
    "There is some missing data indicated by NaN, which may bias your results. \n",
    "See also [Working with missing data](https://pandas.pydata.org/pandas-docs/stable/user_guide/missing_data.html?highlight=nan/)."
   ]
  },
  {
   "cell_type": "code",
   "execution_count": 14,
   "metadata": {},
   "outputs": [
    {
     "data": {
      "text/plain": [
       "pubtime         0\n",
       "medium_code     0\n",
       "medium_name     0\n",
       "rubric          3\n",
       "language        0\n",
       "char_count      0\n",
       "head            0\n",
       "subhead        64\n",
       "content         0\n",
       "dtype: int64"
      ]
     },
     "execution_count": 14,
     "metadata": {},
     "output_type": "execute_result"
    }
   ],
   "source": [
    "# Check missing data in each column\n",
    "df_sub.isna().sum()\n"
   ]
  },
  {
   "cell_type": "code",
   "execution_count": 15,
   "metadata": {},
   "outputs": [
    {
     "data": {
      "text/html": [
       "<div>\n",
       "<style scoped>\n",
       "    .dataframe tbody tr th:only-of-type {\n",
       "        vertical-align: middle;\n",
       "    }\n",
       "\n",
       "    .dataframe tbody tr th {\n",
       "        vertical-align: top;\n",
       "    }\n",
       "\n",
       "    .dataframe thead th {\n",
       "        text-align: right;\n",
       "    }\n",
       "</style>\n",
       "<table border=\"1\" class=\"dataframe\">\n",
       "  <thead>\n",
       "    <tr style=\"text-align: right;\">\n",
       "      <th></th>\n",
       "      <th>pubtime</th>\n",
       "      <th>medium_code</th>\n",
       "      <th>medium_name</th>\n",
       "      <th>rubric</th>\n",
       "      <th>language</th>\n",
       "      <th>char_count</th>\n",
       "      <th>head</th>\n",
       "      <th>subhead</th>\n",
       "      <th>content</th>\n",
       "    </tr>\n",
       "  </thead>\n",
       "  <tbody>\n",
       "    <tr>\n",
       "      <th>57</th>\n",
       "      <td>2001-03-08 00:00:00+01</td>\n",
       "      <td>NZZ</td>\n",
       "      <td>Neue Zürcher Zeitung</td>\n",
       "      <td>NaN</td>\n",
       "      <td>de</td>\n",
       "      <td>4435</td>\n",
       "      <td>«We are Nr. 1 . . .» - Zürcher Kunstszene in d...</td>\n",
       "      <td>NaN</td>\n",
       "      <td>Der Kunstort Zürich ist seit einiger Zeit von ...</td>\n",
       "    </tr>\n",
       "    <tr>\n",
       "      <th>99</th>\n",
       "      <td>2004-09-16 00:00:00+02</td>\n",
       "      <td>NZZ</td>\n",
       "      <td>Neue Zürcher Zeitung</td>\n",
       "      <td>NaN</td>\n",
       "      <td>de</td>\n",
       "      <td>1478</td>\n",
       "      <td>Screamin' Nick Cave</td>\n",
       "      <td>NaN</td>\n",
       "      <td>fc. Nick Cave ist wohl der einzige Songwriter,...</td>\n",
       "    </tr>\n",
       "    <tr>\n",
       "      <th>151</th>\n",
       "      <td>2004-10-11 00:00:00+02</td>\n",
       "      <td>TA</td>\n",
       "      <td>Tages-Anzeiger</td>\n",
       "      <td>NaN</td>\n",
       "      <td>de</td>\n",
       "      <td>5902</td>\n",
       "      <td>Der gute Stoff regnet nur so auf ihn runter</td>\n",
       "      <td>NaN</td>\n",
       "      <td>Nick Cave hat einen Lauf: Sein neues Doppelalb...</td>\n",
       "    </tr>\n",
       "  </tbody>\n",
       "</table>\n",
       "</div>"
      ],
      "text/plain": [
       "                    pubtime medium_code           medium_name rubric language  \\\n",
       "57   2001-03-08 00:00:00+01         NZZ  Neue Zürcher Zeitung    NaN       de   \n",
       "99   2004-09-16 00:00:00+02         NZZ  Neue Zürcher Zeitung    NaN       de   \n",
       "151  2004-10-11 00:00:00+02          TA        Tages-Anzeiger    NaN       de   \n",
       "\n",
       "     char_count                                               head subhead  \\\n",
       "57         4435  «We are Nr. 1 . . .» - Zürcher Kunstszene in d...     NaN   \n",
       "99         1478                                Screamin' Nick Cave     NaN   \n",
       "151        5902        Der gute Stoff regnet nur so auf ihn runter     NaN   \n",
       "\n",
       "                                               content  \n",
       "57   Der Kunstort Zürich ist seit einiger Zeit von ...  \n",
       "99   fc. Nick Cave ist wohl der einzige Songwriter,...  \n",
       "151  Nick Cave hat einen Lauf: Sein neues Doppelalb...  "
      ]
     },
     "execution_count": 15,
     "metadata": {},
     "output_type": "execute_result"
    }
   ],
   "source": [
    "# Filter missing values\n",
    "df_sub[df_sub[\"rubric\"].isna()]\n"
   ]
  },
  {
   "cell_type": "markdown",
   "metadata": {
    "slideshow": {
     "slide_type": "slide"
    }
   },
   "source": [
    "## Recode categorial Variables\n",
    "Sometimes you want to change a categories name to improve consistency or readability "
   ]
  },
  {
   "cell_type": "code",
   "execution_count": 16,
   "metadata": {},
   "outputs": [
    {
     "data": {
      "text/html": [
       "<div>\n",
       "<style scoped>\n",
       "    .dataframe tbody tr th:only-of-type {\n",
       "        vertical-align: middle;\n",
       "    }\n",
       "\n",
       "    .dataframe tbody tr th {\n",
       "        vertical-align: top;\n",
       "    }\n",
       "\n",
       "    .dataframe thead th {\n",
       "        text-align: right;\n",
       "    }\n",
       "</style>\n",
       "<table border=\"1\" class=\"dataframe\">\n",
       "  <thead>\n",
       "    <tr style=\"text-align: right;\">\n",
       "      <th></th>\n",
       "      <th>pubtime</th>\n",
       "      <th>medium_code</th>\n",
       "      <th>medium_name</th>\n",
       "      <th>rubric</th>\n",
       "      <th>language</th>\n",
       "      <th>char_count</th>\n",
       "      <th>head</th>\n",
       "      <th>subhead</th>\n",
       "      <th>content</th>\n",
       "    </tr>\n",
       "  </thead>\n",
       "  <tbody>\n",
       "    <tr>\n",
       "      <th>0</th>\n",
       "      <td>2020-06-18 00:00:00+02</td>\n",
       "      <td>TA</td>\n",
       "      <td>Tages-Anzeiger</td>\n",
       "      <td>Meinungen</td>\n",
       "      <td>German</td>\n",
       "      <td>3785</td>\n",
       "      <td>Mobbing im Zeichen des «Guten»</td>\n",
       "      <td>NaN</td>\n",
       "      <td>Aus Angst vor Reputationsschäden reagieren Fir...</td>\n",
       "    </tr>\n",
       "    <tr>\n",
       "      <th>1</th>\n",
       "      <td>2021-04-16 00:00:00+02</td>\n",
       "      <td>NZZ</td>\n",
       "      <td>Neue Zürcher Zeitung</td>\n",
       "      <td>Feuilleton</td>\n",
       "      <td>German</td>\n",
       "      <td>12305</td>\n",
       "      <td>«Foucault lachte über Pädophilie»</td>\n",
       "      <td>Hat Michel Foucault Buben missbraucht? Von die...</td>\n",
       "      <td>Herr Bruckner, was ging Ihnen durch den Kopf, ...</td>\n",
       "    </tr>\n",
       "    <tr>\n",
       "      <th>2</th>\n",
       "      <td>2017-05-06 00:00:00+02</td>\n",
       "      <td>TA</td>\n",
       "      <td>Tages-Anzeiger</td>\n",
       "      <td>Wochenende Kultur &amp; Gesellschaft</td>\n",
       "      <td>German</td>\n",
       "      <td>7883</td>\n",
       "      <td>Der Hass der Wohlgesinnten</td>\n",
       "      <td>NaN</td>\n",
       "      <td>Rate mal, wer zum Essen kommt: Die Horrorkomöd...</td>\n",
       "    </tr>\n",
       "  </tbody>\n",
       "</table>\n",
       "</div>"
      ],
      "text/plain": [
       "                  pubtime medium_code           medium_name  \\\n",
       "0  2020-06-18 00:00:00+02          TA        Tages-Anzeiger   \n",
       "1  2021-04-16 00:00:00+02         NZZ  Neue Zürcher Zeitung   \n",
       "2  2017-05-06 00:00:00+02          TA        Tages-Anzeiger   \n",
       "\n",
       "                             rubric language  char_count  \\\n",
       "0                         Meinungen   German        3785   \n",
       "1                        Feuilleton   German       12305   \n",
       "2  Wochenende Kultur & Gesellschaft   German        7883   \n",
       "\n",
       "                                head  \\\n",
       "0     Mobbing im Zeichen des «Guten»   \n",
       "1  «Foucault lachte über Pädophilie»   \n",
       "2         Der Hass der Wohlgesinnten   \n",
       "\n",
       "                                             subhead  \\\n",
       "0                                                NaN   \n",
       "1  Hat Michel Foucault Buben missbraucht? Von die...   \n",
       "2                                                NaN   \n",
       "\n",
       "                                             content  \n",
       "0  Aus Angst vor Reputationsschäden reagieren Fir...  \n",
       "1  Herr Bruckner, was ging Ihnen durch den Kopf, ...  \n",
       "2  Rate mal, wer zum Essen kommt: Die Horrorkomöd...  "
      ]
     },
     "execution_count": 16,
     "metadata": {},
     "output_type": "execute_result"
    }
   ],
   "source": [
    "# Recode variable\n",
    "df_sub.replace(\n",
    "    {\n",
    "        \"language\": {\"de\": \"German\"},\n",
    "    },\n",
    "    inplace=True,\n",
    ")\n",
    "df_sub.head(3)"
   ]
  },
  {
   "cell_type": "markdown",
   "metadata": {
    "slideshow": {
     "slide_type": "slide"
    }
   },
   "source": [
    "## Search for relevant Articles using Regex"
   ]
  },
  {
   "cell_type": "code",
   "execution_count": 17,
   "metadata": {},
   "outputs": [
    {
     "data": {
      "text/html": [
       "<div>\n",
       "<style scoped>\n",
       "    .dataframe tbody tr th:only-of-type {\n",
       "        vertical-align: middle;\n",
       "    }\n",
       "\n",
       "    .dataframe tbody tr th {\n",
       "        vertical-align: top;\n",
       "    }\n",
       "\n",
       "    .dataframe thead th {\n",
       "        text-align: right;\n",
       "    }\n",
       "</style>\n",
       "<table border=\"1\" class=\"dataframe\">\n",
       "  <thead>\n",
       "    <tr style=\"text-align: right;\">\n",
       "      <th></th>\n",
       "      <th>pubtime</th>\n",
       "      <th>medium_code</th>\n",
       "      <th>medium_name</th>\n",
       "      <th>rubric</th>\n",
       "      <th>language</th>\n",
       "      <th>char_count</th>\n",
       "      <th>head</th>\n",
       "      <th>subhead</th>\n",
       "      <th>content</th>\n",
       "    </tr>\n",
       "  </thead>\n",
       "  <tbody>\n",
       "    <tr>\n",
       "      <th>19</th>\n",
       "      <td>2022-10-12 00:00:00+02</td>\n",
       "      <td>NZZ</td>\n",
       "      <td>Neue Zürcher Zeitung</td>\n",
       "      <td>Zürich und Region</td>\n",
       "      <td>German</td>\n",
       "      <td>5977</td>\n",
       "      <td>Kritik am Diversity-Kurs des Schauspielhauses</td>\n",
       "      <td>Der Stadtrat muss über die wirtschaftlichen Ko...</td>\n",
       "      <td>Dem Zürcher Schauspielhaus laufen die Zuschaue...</td>\n",
       "    </tr>\n",
       "    <tr>\n",
       "      <th>22</th>\n",
       "      <td>2022-12-27 00:00:00+01</td>\n",
       "      <td>NZZ</td>\n",
       "      <td>Neue Zürcher Zeitung</td>\n",
       "      <td>Meinung und Debatte</td>\n",
       "      <td>German</td>\n",
       "      <td>9484</td>\n",
       "      <td>Böse alte Welt</td>\n",
       "      <td>«Woke» Westler werfen früheren Gesellschaften ...</td>\n",
       "      <td>Der Abenteuerfilm «The Aeronauts» aus dem Jahr...</td>\n",
       "    </tr>\n",
       "    <tr>\n",
       "      <th>33</th>\n",
       "      <td>2022-11-05 00:00:00+01</td>\n",
       "      <td>NZZ</td>\n",
       "      <td>Neue Zürcher Zeitung</td>\n",
       "      <td>Front</td>\n",
       "      <td>German</td>\n",
       "      <td>1349</td>\n",
       "      <td>Schauspielhaus Zürich erregt Kritik</td>\n",
       "      <td>Die Abo-Zahlen des Theaters gehen stark zurück</td>\n",
       "      <td>· Am meisten zu reden gibt das Schauspielhaus ...</td>\n",
       "    </tr>\n",
       "  </tbody>\n",
       "</table>\n",
       "</div>"
      ],
      "text/plain": [
       "                   pubtime medium_code           medium_name  \\\n",
       "19  2022-10-12 00:00:00+02         NZZ  Neue Zürcher Zeitung   \n",
       "22  2022-12-27 00:00:00+01         NZZ  Neue Zürcher Zeitung   \n",
       "33  2022-11-05 00:00:00+01         NZZ  Neue Zürcher Zeitung   \n",
       "\n",
       "                 rubric language  char_count  \\\n",
       "19    Zürich und Region   German        5977   \n",
       "22  Meinung und Debatte   German        9484   \n",
       "33                Front   German        1349   \n",
       "\n",
       "                                             head  \\\n",
       "19  Kritik am Diversity-Kurs des Schauspielhauses   \n",
       "22                                 Böse alte Welt   \n",
       "33            Schauspielhaus Zürich erregt Kritik   \n",
       "\n",
       "                                              subhead  \\\n",
       "19  Der Stadtrat muss über die wirtschaftlichen Ko...   \n",
       "22  «Woke» Westler werfen früheren Gesellschaften ...   \n",
       "33     Die Abo-Zahlen des Theaters gehen stark zurück   \n",
       "\n",
       "                                              content  \n",
       "19  Dem Zürcher Schauspielhaus laufen die Zuschaue...  \n",
       "22  Der Abenteuerfilm «The Aeronauts» aus dem Jahr...  \n",
       "33  · Am meisten zu reden gibt das Schauspielhaus ...  "
      ]
     },
     "execution_count": 17,
     "metadata": {},
     "output_type": "execute_result"
    }
   ],
   "source": [
    "# select all rows for which the regular expression matches the article content\n",
    "# the regex defines a pattern to match either `Theather` or `Aufführung`\n",
    "df_theater = df_sub[df_sub[\"content\"].str.contains(\"(?:Theater|Aufführung)\")]\n",
    "df_theater.head(3)"
   ]
  },
  {
   "cell_type": "markdown",
   "metadata": {
    "slideshow": {
     "slide_type": "slide"
    }
   },
   "source": [
    "## Show relevant Articles using ID"
   ]
  },
  {
   "cell_type": "code",
   "execution_count": 18,
   "metadata": {
    "slideshow": {
     "slide_type": "-"
    }
   },
   "outputs": [
    {
     "name": "stdout",
     "output_type": "stream",
     "text": [
      "Dem Zürcher Schauspielhaus laufen die Zuschauer davon: Nur 72 Prozent aller Abonnements wurden auf die laufende Spielzeit hin erneuert, wie die «NZZ am Sonntag» jüngst berichtete. Von 2013 bis 2019 lag diese Quote jeweils bei über 95 Prozent. Woher kommt dieser Rückgang? Eine mögliche Erklärung ist Corona, allerdings weisen andere Institutionen wie das Opernhaus oder die Berner Theater auch nach der Pandemie weiterhin gute Zahlen auf, wie die Recherche zeigte.\n",
      "Fakt ist: Das Theater hat sich unter der Leitung der Intendanten Nicolas Stemann und Benjamin von Blomberg nach eigenen Angaben ganz der Diversität verschrieben. Dazu heisst es auf der Website: «Das Schauspielhaus verfolgt einen spartenübergreifenden, transdisziplinären, inklusiven und intersektionalen Ansatz, der sowohl bei den Mitarbeiter*innen wie auch beim Publikum grösstmögliche Diversität hinsichtlich Alter, Gender, race und Herkunft sowie anderen Kategorien systemischer Diskriminierung anstrebt.»\n",
      "«Stroboskope werden eingesetzt»\n",
      "Das Haus beschäftigt auch eine «Agentin für Diversität». Die Mediensprecherin Seta Thakur sagt dazu, jede zeitgemäss agierende Institution einer gewissen Grösse und Relevanz arbeite heute mit solchen Expertinnen und Experten. Ziel sei es, «durch die Förderung und Inklusion von Verschiedenheit auf allen Ebenen des Betriebs die Chancengleichheit für marginalisierte Menschen zu erhöhen respektive zu sichern und Diskriminierung massgeblich und nachhaltig abzubauen». Zudem möchte das Theater seinen Zuschauerinnen und Zuschauern nicht zu viel zumuten: Auf der Website sind einige Stücke mit einer Triggerwarnung versehen. «So bieten wir unserem Publikum die Möglichkeit, vorbereitet in ein vielleicht für sie schwieriges Stück zu gehen, ohne dass zu viel Schmerz ausgelöst wird», heisst es dazu. Zur Inszenierung von «Wilhelm Tell» lautet die Warnung: «Diese Inszenierung enthält Schilderungen und Darstellungen von Gewalt, sexualisierter Gewalt, Racial Profiling & Waffen. Es werden Stroboskope eingesetzt.»\n",
      "Die Frage ist, wie dieser Kurs beim Publikum ankommt. Anfang Jahr hat das Schauspielhaus eine anonyme Befragung unter den Besucherinnen und Besuchern durchgeführt. Angeschrieben wurden rund 40 000 Besucher der letzten fünf Spielzeiten, rund 2000 Personen haben geantwortet. Das Durchschnittsalter der Teilnehmer lag bei 57 Jahren. Die Auswertung zeigt: Begeisterung sieht anders aus. Nur eine knappe Mehrheit der Befragten, nämlich 55 Prozent, gab an, «zufrieden» oder «sehr zufrieden» mit dem Programm zu sein. Als negative Punkte wurden «zu forciert trendy», «zu experimentell» oder «zu viele Adaptionen» genannt.\n",
      "Das Schauspielhaus wollte ausserdem wissen, welche Merkmale mit dem Theater verbunden werden: etwa «inspirierend», «offen/liberal» oder «zum politischen Diskurs anregend». Im Vergleich zur letzten Befragung aus dem Jahr 2016, als Barbara Frey Intendantin war, schnitt das Theater fast überall schlechter ab. Zwei Merkmale wurden mehr mit dem heutigen Haus in Verbindung gebracht: «elitär» und «laut/schrill».\n",
      "FDP reicht Anfrage ein\n",
      "Nun muss sich auch der Zürcher Stadtrat mit der Entwicklung des Schauspielhauses befassen: Die FDP hat eine Anfrage dazu eingereicht. Die Stadt Zürich subventioniert das Schauspielhaus jährlich mit rund 38 Millionen Franken; sie ist die mit Abstand grösste Geldgeberin. Ohne diese Unterstützung könnte das Theater nicht überleben. Für FDP-Gemeinderätin Yasmine Bourgeois, die den Vorstoss zusammen mit dem Parteikollegen Flurin Capaul eingereicht hat, ist deshalb klar: «Das Schauspielhaus muss ein Programm anbieten, das ein breites Publikum anspricht und so auch Geld einbringt.» Das sei heute nicht der Fall. Sie habe nichts dagegen, wenn das Schauspielhaus auch experimentelle Stücke aufführe. Doch es müsse nicht jeder Klassiker umgeschrieben werden.\n",
      "Was sie am meisten stört: «Das Theater will divers sein, doch es spricht nur eine bestimmte Sparte an. Der woke Einheitsbrei vergrault die Zuschauer.» Die FDP will nun vom Stadtrat wissen, wie stark die Zahl der verkauften Abonnements in den letzten fünf Jahren zurückgegangen ist und wie hoch die durchschnittliche Auslastung in den letzten neun Monaten war. Der Stadtrat muss ausserdem Auskunft darüber geben, welche wirtschaftlichen Konsequenzen die sinkenden Abo-Zahlen haben.\n",
      "Die Schauspielhaus-Mediensprecherin Seta Thakur sagt, man wolle die Ausrichtung des Hauses beibehalten. «Nicht zuletzt die zahlreichen Auszeichnungen und Einladungen an international renommierte Festivals bestätigen, dass unsere Kunst auf ein breites Interesse stösst.» Das Schauspielhaus wolle die Vielfalt der Stadt und ihrer Menschen abbilden. Der Intendanz liege viel daran, die Abonnentinnen und Abonnenten des Hauses zu halten. Der Austausch mit ihnen solle wieder intensiviert werden, etwa mittels Entwicklung neuer Dialogformate. «Zusätzlich sprechen wir gezielt auch ein jüngeres, diverses Publikum an.»\n",
      "Beim Rückgang der Abo-Erneuerungen handle es sich um einen Trend, der seit Jahren bei den grossen Theaterhäusern wahrnehmbar sei, sagt Thakur. Diesen Trend habe die Pandemie noch verstärkt. Auf Twitter bezeichnete das Schauspielhaus die These, dass der Diversity-Fokus das Publikum vergraule, als «undifferenziert und polemisch». Gegenüber der NZZ formuliert es die Mediensprecherin nun so: «Wir stellen fest, dass unser offener, integrativer und progressiver Ansatz, der die Lust am Experimentieren – und durchaus auch den Mut zum Scheitern – mit einschliesst, sowohl bei einem neugierig gebliebenen Abo-Publikum wie auch bei einem neuen, jüngeren Publikum durchaus Anklang findet.» Wie gross dieser Anklang tatsächlich ist, wird sich bei den Zahlen zeigen, die der Stadtrat nun vorlegen muss.\n",
      "Das Schauspielhaus versieht manche Stücke mit einer Triggerwarnung.\n",
      "Gaëtan Bally / Keystone\n"
     ]
    }
   ],
   "source": [
    "# show text of the article with the index number 19\n",
    "# the column with the text is called `content`\n",
    "print(df_sub.iloc[19].content)\n"
   ]
  },
  {
   "cell_type": "markdown",
   "metadata": {
    "slideshow": {
     "slide_type": "slide"
    }
   },
   "source": [
    "## Analyze Article Length"
   ]
  },
  {
   "cell_type": "code",
   "execution_count": 19,
   "metadata": {},
   "outputs": [
    {
     "data": {
      "text/html": [
       "<div>\n",
       "<style scoped>\n",
       "    .dataframe tbody tr th:only-of-type {\n",
       "        vertical-align: middle;\n",
       "    }\n",
       "\n",
       "    .dataframe tbody tr th {\n",
       "        vertical-align: top;\n",
       "    }\n",
       "\n",
       "    .dataframe thead th {\n",
       "        text-align: right;\n",
       "    }\n",
       "</style>\n",
       "<table border=\"1\" class=\"dataframe\">\n",
       "  <thead>\n",
       "    <tr style=\"text-align: right;\">\n",
       "      <th></th>\n",
       "      <th>pubtime</th>\n",
       "      <th>medium_code</th>\n",
       "      <th>medium_name</th>\n",
       "      <th>rubric</th>\n",
       "      <th>language</th>\n",
       "      <th>char_count</th>\n",
       "      <th>head</th>\n",
       "      <th>subhead</th>\n",
       "      <th>content</th>\n",
       "      <th>length</th>\n",
       "    </tr>\n",
       "  </thead>\n",
       "  <tbody>\n",
       "    <tr>\n",
       "      <th>0</th>\n",
       "      <td>2020-06-18 00:00:00+02</td>\n",
       "      <td>TA</td>\n",
       "      <td>Tages-Anzeiger</td>\n",
       "      <td>Meinungen</td>\n",
       "      <td>German</td>\n",
       "      <td>3785</td>\n",
       "      <td>Mobbing im Zeichen des «Guten»</td>\n",
       "      <td>NaN</td>\n",
       "      <td>Aus Angst vor Reputationsschäden reagieren Fir...</td>\n",
       "      <td>3608</td>\n",
       "    </tr>\n",
       "    <tr>\n",
       "      <th>1</th>\n",
       "      <td>2021-04-16 00:00:00+02</td>\n",
       "      <td>NZZ</td>\n",
       "      <td>Neue Zürcher Zeitung</td>\n",
       "      <td>Feuilleton</td>\n",
       "      <td>German</td>\n",
       "      <td>12305</td>\n",
       "      <td>«Foucault lachte über Pädophilie»</td>\n",
       "      <td>Hat Michel Foucault Buben missbraucht? Von die...</td>\n",
       "      <td>Herr Bruckner, was ging Ihnen durch den Kopf, ...</td>\n",
       "      <td>12056</td>\n",
       "    </tr>\n",
       "    <tr>\n",
       "      <th>2</th>\n",
       "      <td>2017-05-06 00:00:00+02</td>\n",
       "      <td>TA</td>\n",
       "      <td>Tages-Anzeiger</td>\n",
       "      <td>Wochenende Kultur &amp; Gesellschaft</td>\n",
       "      <td>German</td>\n",
       "      <td>7883</td>\n",
       "      <td>Der Hass der Wohlgesinnten</td>\n",
       "      <td>NaN</td>\n",
       "      <td>Rate mal, wer zum Essen kommt: Die Horrorkomöd...</td>\n",
       "      <td>7417</td>\n",
       "    </tr>\n",
       "  </tbody>\n",
       "</table>\n",
       "</div>"
      ],
      "text/plain": [
       "                  pubtime medium_code           medium_name  \\\n",
       "0  2020-06-18 00:00:00+02          TA        Tages-Anzeiger   \n",
       "1  2021-04-16 00:00:00+02         NZZ  Neue Zürcher Zeitung   \n",
       "2  2017-05-06 00:00:00+02          TA        Tages-Anzeiger   \n",
       "\n",
       "                             rubric language  char_count  \\\n",
       "0                         Meinungen   German        3785   \n",
       "1                        Feuilleton   German       12305   \n",
       "2  Wochenende Kultur & Gesellschaft   German        7883   \n",
       "\n",
       "                                head  \\\n",
       "0     Mobbing im Zeichen des «Guten»   \n",
       "1  «Foucault lachte über Pädophilie»   \n",
       "2         Der Hass der Wohlgesinnten   \n",
       "\n",
       "                                             subhead  \\\n",
       "0                                                NaN   \n",
       "1  Hat Michel Foucault Buben missbraucht? Von die...   \n",
       "2                                                NaN   \n",
       "\n",
       "                                             content  length  \n",
       "0  Aus Angst vor Reputationsschäden reagieren Fir...    3608  \n",
       "1  Herr Bruckner, was ging Ihnen durch den Kopf, ...   12056  \n",
       "2  Rate mal, wer zum Essen kommt: Die Horrorkomöd...    7417  "
      ]
     },
     "execution_count": 19,
     "metadata": {},
     "output_type": "execute_result"
    }
   ],
   "source": [
    "# Recompute article length rather than relying on `char_count`\n",
    "df_sub[\"length\"] = df_sub[\"content\"].str.len()\n",
    "df_sub.head(3)\n"
   ]
  },
  {
   "cell_type": "code",
   "execution_count": 20,
   "metadata": {
    "slideshow": {
     "slide_type": "slide"
    }
   },
   "outputs": [
    {
     "data": {
      "text/plain": [
       "<Axes: title={'center': 'Distribution of article length'}, ylabel='Frequency'>"
      ]
     },
     "execution_count": 20,
     "metadata": {},
     "output_type": "execute_result"
    },
    {
     "data": {
      "image/png": "[encoded data removed]",
      "text/plain": [
       "<Figure size 640x480 with 1 Axes>"
      ]
     },
     "metadata": {},
     "output_type": "display_data"
    }
   ],
   "source": [
    "# visualize distribution of article length as histogram\n",
    "df_sub[\"length\"].plot(kind=\"hist\", bins=20, title=\"Distribution of article length\")\n"
   ]
  },
  {
   "cell_type": "markdown",
   "metadata": {
    "slideshow": {
     "slide_type": "slide"
    }
   },
   "source": [
    "## Analyze the publishing Behaviour\n",
    "\n",
    "- publishing frequency on wokeness over time\n",
    "- broken down by newspaper"
   ]
  },
  {
   "cell_type": "code",
   "execution_count": 21,
   "metadata": {
    "slideshow": {
     "slide_type": "-"
    }
   },
   "outputs": [
    {
     "data": {
      "text/html": [
       "<div>\n",
       "<style scoped>\n",
       "    .dataframe tbody tr th:only-of-type {\n",
       "        vertical-align: middle;\n",
       "    }\n",
       "\n",
       "    .dataframe tbody tr th {\n",
       "        vertical-align: top;\n",
       "    }\n",
       "\n",
       "    .dataframe thead th {\n",
       "        text-align: right;\n",
       "    }\n",
       "</style>\n",
       "<table border=\"1\" class=\"dataframe\">\n",
       "  <thead>\n",
       "    <tr style=\"text-align: right;\">\n",
       "      <th></th>\n",
       "      <th>pubtime</th>\n",
       "      <th>medium_code</th>\n",
       "      <th>medium_name</th>\n",
       "      <th>rubric</th>\n",
       "      <th>language</th>\n",
       "      <th>char_count</th>\n",
       "      <th>head</th>\n",
       "      <th>subhead</th>\n",
       "      <th>content</th>\n",
       "      <th>length</th>\n",
       "      <th>year</th>\n",
       "    </tr>\n",
       "  </thead>\n",
       "  <tbody>\n",
       "    <tr>\n",
       "      <th>0</th>\n",
       "      <td>2020-06-17 22:00:00+00:00</td>\n",
       "      <td>TA</td>\n",
       "      <td>Tages-Anzeiger</td>\n",
       "      <td>Meinungen</td>\n",
       "      <td>German</td>\n",
       "      <td>3785</td>\n",
       "      <td>Mobbing im Zeichen des «Guten»</td>\n",
       "      <td>NaN</td>\n",
       "      <td>Aus Angst vor Reputationsschäden reagieren Fir...</td>\n",
       "      <td>3608</td>\n",
       "      <td>2020</td>\n",
       "    </tr>\n",
       "    <tr>\n",
       "      <th>1</th>\n",
       "      <td>2021-04-15 22:00:00+00:00</td>\n",
       "      <td>NZZ</td>\n",
       "      <td>Neue Zürcher Zeitung</td>\n",
       "      <td>Feuilleton</td>\n",
       "      <td>German</td>\n",
       "      <td>12305</td>\n",
       "      <td>«Foucault lachte über Pädophilie»</td>\n",
       "      <td>Hat Michel Foucault Buben missbraucht? Von die...</td>\n",
       "      <td>Herr Bruckner, was ging Ihnen durch den Kopf, ...</td>\n",
       "      <td>12056</td>\n",
       "      <td>2021</td>\n",
       "    </tr>\n",
       "    <tr>\n",
       "      <th>2</th>\n",
       "      <td>2017-05-05 22:00:00+00:00</td>\n",
       "      <td>TA</td>\n",
       "      <td>Tages-Anzeiger</td>\n",
       "      <td>Wochenende Kultur &amp; Gesellschaft</td>\n",
       "      <td>German</td>\n",
       "      <td>7883</td>\n",
       "      <td>Der Hass der Wohlgesinnten</td>\n",
       "      <td>NaN</td>\n",
       "      <td>Rate mal, wer zum Essen kommt: Die Horrorkomöd...</td>\n",
       "      <td>7417</td>\n",
       "      <td>2017</td>\n",
       "    </tr>\n",
       "  </tbody>\n",
       "</table>\n",
       "</div>"
      ],
      "text/plain": [
       "                    pubtime medium_code           medium_name  \\\n",
       "0 2020-06-17 22:00:00+00:00          TA        Tages-Anzeiger   \n",
       "1 2021-04-15 22:00:00+00:00         NZZ  Neue Zürcher Zeitung   \n",
       "2 2017-05-05 22:00:00+00:00          TA        Tages-Anzeiger   \n",
       "\n",
       "                             rubric language  char_count  \\\n",
       "0                         Meinungen   German        3785   \n",
       "1                        Feuilleton   German       12305   \n",
       "2  Wochenende Kultur & Gesellschaft   German        7883   \n",
       "\n",
       "                                head  \\\n",
       "0     Mobbing im Zeichen des «Guten»   \n",
       "1  «Foucault lachte über Pädophilie»   \n",
       "2         Der Hass der Wohlgesinnten   \n",
       "\n",
       "                                             subhead  \\\n",
       "0                                                NaN   \n",
       "1  Hat Michel Foucault Buben missbraucht? Von die...   \n",
       "2                                                NaN   \n",
       "\n",
       "                                             content  length  year  \n",
       "0  Aus Angst vor Reputationsschäden reagieren Fir...    3608  2020  \n",
       "1  Herr Bruckner, was ging Ihnen durch den Kopf, ...   12056  2021  \n",
       "2  Rate mal, wer zum Essen kommt: Die Horrorkomöd...    7417  2017  "
      ]
     },
     "execution_count": 21,
     "metadata": {},
     "output_type": "execute_result"
    }
   ],
   "source": [
    "# Parse the `pubtime` as datetype (accounting for timezones)\n",
    "df_sub[\"pubtime\"] = pd.to_datetime(df_sub[\"pubtime\"], utc=True)\n",
    "\n",
    "# create new column with publication year only\n",
    "df_sub[\"year\"] = df_sub[\"pubtime\"].dt.year\n",
    "df_sub.head(3)\n"
   ]
  },
  {
   "cell_type": "code",
   "execution_count": 22,
   "metadata": {
    "slideshow": {
     "slide_type": "slide"
    }
   },
   "outputs": [
    {
     "data": {
      "text/html": [
       "<div>\n",
       "<style scoped>\n",
       "    .dataframe tbody tr th:only-of-type {\n",
       "        vertical-align: middle;\n",
       "    }\n",
       "\n",
       "    .dataframe tbody tr th {\n",
       "        vertical-align: top;\n",
       "    }\n",
       "\n",
       "    .dataframe thead th {\n",
       "        text-align: right;\n",
       "    }\n",
       "</style>\n",
       "<table border=\"1\" class=\"dataframe\">\n",
       "  <thead>\n",
       "    <tr style=\"text-align: right;\">\n",
       "      <th></th>\n",
       "      <th>year</th>\n",
       "      <th>medium_name</th>\n",
       "      <th>count</th>\n",
       "    </tr>\n",
       "  </thead>\n",
       "  <tbody>\n",
       "    <tr>\n",
       "      <th>0</th>\n",
       "      <td>2000</td>\n",
       "      <td>Tages-Anzeiger</td>\n",
       "      <td>1</td>\n",
       "    </tr>\n",
       "    <tr>\n",
       "      <th>1</th>\n",
       "      <td>2001</td>\n",
       "      <td>Neue Zürcher Zeitung</td>\n",
       "      <td>1</td>\n",
       "    </tr>\n",
       "    <tr>\n",
       "      <th>2</th>\n",
       "      <td>2001</td>\n",
       "      <td>Tages-Anzeiger</td>\n",
       "      <td>2</td>\n",
       "    </tr>\n",
       "    <tr>\n",
       "      <th>3</th>\n",
       "      <td>2004</td>\n",
       "      <td>Neue Zürcher Zeitung</td>\n",
       "      <td>1</td>\n",
       "    </tr>\n",
       "    <tr>\n",
       "      <th>4</th>\n",
       "      <td>2004</td>\n",
       "      <td>Tages-Anzeiger</td>\n",
       "      <td>1</td>\n",
       "    </tr>\n",
       "    <tr>\n",
       "      <th>5</th>\n",
       "      <td>2007</td>\n",
       "      <td>Tages-Anzeiger</td>\n",
       "      <td>1</td>\n",
       "    </tr>\n",
       "    <tr>\n",
       "      <th>6</th>\n",
       "      <td>2013</td>\n",
       "      <td>Tages-Anzeiger</td>\n",
       "      <td>1</td>\n",
       "    </tr>\n",
       "    <tr>\n",
       "      <th>7</th>\n",
       "      <td>2017</td>\n",
       "      <td>Tages-Anzeiger</td>\n",
       "      <td>2</td>\n",
       "    </tr>\n",
       "    <tr>\n",
       "      <th>8</th>\n",
       "      <td>2018</td>\n",
       "      <td>Neue Zürcher Zeitung</td>\n",
       "      <td>1</td>\n",
       "    </tr>\n",
       "    <tr>\n",
       "      <th>9</th>\n",
       "      <td>2019</td>\n",
       "      <td>Neue Zürcher Zeitung</td>\n",
       "      <td>3</td>\n",
       "    </tr>\n",
       "    <tr>\n",
       "      <th>10</th>\n",
       "      <td>2019</td>\n",
       "      <td>Tages-Anzeiger</td>\n",
       "      <td>2</td>\n",
       "    </tr>\n",
       "    <tr>\n",
       "      <th>11</th>\n",
       "      <td>2020</td>\n",
       "      <td>Neue Zürcher Zeitung</td>\n",
       "      <td>9</td>\n",
       "    </tr>\n",
       "    <tr>\n",
       "      <th>12</th>\n",
       "      <td>2020</td>\n",
       "      <td>Tages-Anzeiger</td>\n",
       "      <td>3</td>\n",
       "    </tr>\n",
       "    <tr>\n",
       "      <th>13</th>\n",
       "      <td>2021</td>\n",
       "      <td>Neue Zürcher Zeitung</td>\n",
       "      <td>29</td>\n",
       "    </tr>\n",
       "    <tr>\n",
       "      <th>14</th>\n",
       "      <td>2021</td>\n",
       "      <td>Tages-Anzeiger</td>\n",
       "      <td>10</td>\n",
       "    </tr>\n",
       "    <tr>\n",
       "      <th>15</th>\n",
       "      <td>2022</td>\n",
       "      <td>Neue Zürcher Zeitung</td>\n",
       "      <td>59</td>\n",
       "    </tr>\n",
       "    <tr>\n",
       "      <th>16</th>\n",
       "      <td>2022</td>\n",
       "      <td>Tages-Anzeiger</td>\n",
       "      <td>26</td>\n",
       "    </tr>\n",
       "  </tbody>\n",
       "</table>\n",
       "</div>"
      ],
      "text/plain": [
       "    year           medium_name  count\n",
       "0   2000        Tages-Anzeiger      1\n",
       "1   2001  Neue Zürcher Zeitung      1\n",
       "2   2001        Tages-Anzeiger      2\n",
       "3   2004  Neue Zürcher Zeitung      1\n",
       "4   2004        Tages-Anzeiger      1\n",
       "5   2007        Tages-Anzeiger      1\n",
       "6   2013        Tages-Anzeiger      1\n",
       "7   2017        Tages-Anzeiger      2\n",
       "8   2018  Neue Zürcher Zeitung      1\n",
       "9   2019  Neue Zürcher Zeitung      3\n",
       "10  2019        Tages-Anzeiger      2\n",
       "11  2020  Neue Zürcher Zeitung      9\n",
       "12  2020        Tages-Anzeiger      3\n",
       "13  2021  Neue Zürcher Zeitung     29\n",
       "14  2021        Tages-Anzeiger     10\n",
       "15  2022  Neue Zürcher Zeitung     59\n",
       "16  2022        Tages-Anzeiger     26"
      ]
     },
     "execution_count": 22,
     "metadata": {},
     "output_type": "execute_result"
    }
   ],
   "source": [
    "# Group data by year and newspaper and count the respective articles\n",
    "docs_per_year = (\n",
    "    df_sub.groupby([\"year\", \"medium_name\"])\n",
    "    .agg({\"content\": \"count\"})\n",
    "    .reset_index()\n",
    "    .rename(columns={\"content\": \"count\"})\n",
    ")\n",
    "docs_per_year\n"
   ]
  },
  {
   "cell_type": "code",
   "execution_count": 23,
   "metadata": {
    "slideshow": {
     "slide_type": "slide"
    }
   },
   "outputs": [
    {
     "data": {
      "image/png": "[encoded data removed]",
      "text/plain": [
       "<Figure size 640x480 with 1 Axes>"
      ]
     },
     "metadata": {
      "needs_background": "light"
     },
     "output_type": "display_data"
    },
    {
     "data": {
      "text/plain": [
       "<ggplot: (8778509578237)>"
      ]
     },
     "execution_count": 23,
     "metadata": {},
     "output_type": "execute_result"
    }
   ],
   "source": [
    "# visualize the number of articles per year and newspaper\n",
    "# for more complex figures, we use plotnine instead of standard visualization of pandas\n",
    "(\n",
    "    pn.ggplot(docs_per_year, pn.aes(x=\"year\", y=\"count\", color=\"medium_name\"))\n",
    "    + pn.geom_line()\n",
    "    + pn.labs(title=\"Number of articles per year\", x=\"Year\", y=\"absolute frequency\")\n",
    "    + pn.theme_minimal()\n",
    ")\n"
   ]
  },
  {
   "cell_type": "markdown",
   "metadata": {
    "slideshow": {
     "slide_type": "slide"
    }
   },
   "source": [
    "## Key Aspects of Publishing on Wokeness\n",
    "- wokeness is a recent topic in Swiss Media\n",
    "  - starts in 2013\n",
    "  - skyrockets after 2020 \n",
    "- NZZ becomes obsessed with the topic in 2022"
   ]
  },
  {
   "cell_type": "markdown",
   "metadata": {
    "slideshow": {
     "slide_type": "slide"
    }
   },
   "source": [
    "## Export the modified dataset as CSV"
   ]
  },
  {
   "cell_type": "code",
   "execution_count": 24,
   "metadata": {
    "slideshow": {
     "slide_type": "-"
    }
   },
   "outputs": [],
   "source": [
    "# Save dataset as CSV file without an index\n",
    "df_sub.to_csv(\"../data/extended_swiss_media_wokeness.tsv\", index=False)\n"
   ]
  },
  {
   "cell_type": "markdown",
   "metadata": {
    "slideshow": {
     "slide_type": "slide"
    }
   },
   "source": [
    "# In-class: Exercises I\n",
    "\n",
    "1. Execute the code in this Jupyter Notebook by clicking \"Run All\". Check the code and the outputs below each cell.\n",
    "2. Combine a few words of your interest into a singular regular expression and search for all occurrences.\n",
    "3. Use the `id` of the row to look at the articles content.\n",
    "4. Rename the column from `medium_name` to `newspaper`.\n"
   ]
  },
  {
   "cell_type": "markdown",
   "metadata": {
    "slideshow": {
     "slide_type": "slide"
    }
   },
   "source": [
    "# In-class: Exercises II\n",
    "1. Visualize the articles rubric over time instead of the newspaper\n",
    "2. Some articles have still some meta information in their text. Remove the last line of articles if it doesn't end like a regular sentence  (e.g. `Gaëtan Bally / Keystone`). Use regular expressions.\n"
   ]
  },
  {
   "cell_type": "markdown",
   "metadata": {
    "slideshow": {
     "slide_type": "slide"
    }
   },
   "source": [
    "# In-class: Exercises III\n",
    "1. Choose a topic of your interest and curate your own dataset on Swissdox by using relevant keywords\n",
    "2. How do different keywords infuence your results? Try to make your results more robust by combining keywords with bool operators (`AND`, `OR`, `NOT`). See also the [manual](https://liri.linguistik.uzh.ch/wiki/langtech/swissdox/query)."
   ]
  },
  {
   "cell_type": "markdown",
   "metadata": {},
   "source": [
    "# Resources\n",
    "- [Explaratory data analysis on UN General Debate](https://www.oreilly.com/library/view/blueprints-for-text/9781492074076/ch01.html)\n",
    "- [Introduction to Pandas for Social Scientists](https://melaniewalsh.github.io/Intro-Cultural-Analytics/03-Data-Analysis/00-Data-Analysis.html)"
   ]
  },
  {
   "cell_type": "markdown",
   "metadata": {
    "slideshow": {
     "slide_type": "slide"
    }
   },
   "source": [
    "# Solutions"
   ]
  },
  {
   "cell_type": "code",
   "execution_count": 25,
   "metadata": {
    "slideshow": {
     "slide_type": "slide"
    }
   },
   "outputs": [
    {
     "data": {
      "image/png": "[encoded data removed]",
      "text/plain": [
       "<Figure size 640x480 with 1 Axes>"
      ]
     },
     "metadata": {
      "needs_background": "light"
     },
     "output_type": "display_data"
    },
    {
     "data": {
      "text/plain": [
       "<ggplot: (8778509400022)>"
      ]
     },
     "execution_count": 25,
     "metadata": {},
     "output_type": "execute_result"
    }
   ],
   "source": [
    "# task II.1 \n",
    "# visualize the number of articles per year and rubric\n",
    "docs_per_year = (\n",
    "    df_sub.groupby([\"year\", \"rubric\"])\n",
    "    .agg({\"content\": \"count\"})\n",
    "    .reset_index()\n",
    "    .rename(columns={\"content\": \"count\"})\n",
    ")\n",
    "\n",
    "(\n",
    "    pn.ggplot(docs_per_year, pn.aes(x=\"year\", y=\"count\", color=\"rubric\"))\n",
    "    + pn.geom_line()\n",
    "    + pn.labs(title=\"Number of articles per year\", x=\"Year\", y=\"absolute frequency\")\n",
    "    + pn.theme_minimal()\n",
    ")\n"
   ]
  }
 ],
 "metadata": {
  "celltoolbar": "Slideshow",
  "kernelspec": {
   "display_name": "ked2023.new",
   "language": "python",
   "name": "ked2023.new"
  },
  "language_info": {
   "codemirror_mode": {
    "name": "ipython",
    "version": 3
   },
   "file_extension": ".py",
   "mimetype": "text/x-python",
   "name": "python",
   "nbconvert_exporter": "python",
   "pygments_lexer": "ipython3",
   "version": "3.10.10"
  },
  "vscode": {
   "interpreter": {
    "hash": "602a0c2c989c4db69f1e72373634d20209e0721a34c2fe5c8fe875dd966dd46c"
   }
  }
 },
 "nbformat": 4,
 "nbformat_minor": 2
}
